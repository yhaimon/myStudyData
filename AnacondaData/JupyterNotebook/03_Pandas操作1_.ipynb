{
 "cells": [
  {
   "cell_type": "markdown",
   "id": "c23d3aab",
   "metadata": {},
   "source": [
    "## 实验三 \n",
    " \n"
   ]
  },
  {
   "cell_type": "markdown",
   "id": "9119e19a",
   "metadata": {},
   "source": [
    "<font color=Tomato>**Pandas**</font>是一个开源的第三方 Python 库，从 Numpy 和 Matplotlib 的基础上构建而来，享有数据分析“三剑客之一”的盛名（NumPy、Matplotlib、Pandas）。Pandas 已经成为 Python 数据分析的必备高级工具，它的目标是成为强大、灵活、可以支持任何编程语言的数据分析工具。  "
   ]
  },
  {
   "cell_type": "markdown",
   "id": "35ed31a0",
   "metadata": {},
   "source": [
    "<font color=Tomato>**第一部分**</font>-**Pandas数据结构**  \n",
    "\n",
    "请在下面<font color=Tomato>**每一行注释**</font>下添加对应的代码"
   ]
  },
  {
   "cell_type": "markdown",
   "id": "22932b96",
   "metadata": {},
   "source": [
    "**Pandas**有三种数据结构：系列(Series)、数据帧(DataFrame)和面板(Panel)。 \n",
    "数据帧是Pandas使用最多的数据结构，其特点是异构数据、大小可变、数据可变。\n",
    "数据以行和列表示，每行是一条记录（对象），每列表示一个属性，属性数据具有数据类型。\n",
    "Pandas数据帧可以使用各种输入创建，如列表、字典、系列、NumPy的ndarrays、Series或另一个数据帧等。"
   ]
  },
  {
   "cell_type": "code",
   "execution_count": 1,
   "id": "ccf4de1c",
   "metadata": {},
   "outputs": [],
   "source": [
    "#导入pandas库，并取一个别名pd\n",
    "import pandas as pd\n",
    "import numpy as np"
   ]
  },
  {
   "cell_type": "markdown",
   "id": "6523262e",
   "metadata": {},
   "source": [
    "<font color=Tomato>1.Pandas数据创建</font>"
   ]
  },
  {
   "cell_type": "code",
   "execution_count": 3,
   "id": "9ecc8ff5",
   "metadata": {},
   "outputs": [
    {
     "name": "stdout",
     "output_type": "stream",
     "text": [
      "Empty DataFrame\n",
      "Columns: []\n",
      "Index: []\n",
      "<class 'pandas.core.frame.DataFrame'>\n"
     ]
    }
   ],
   "source": [
    "#1.0 pandas空数组创建 \n",
    "'''\n",
    "格式为 数据帧名 = pd.DataFrame() \n",
    "'''\n",
    "#创建一个空的pandas数组\n",
    "array1 = pd.DataFrame()\n",
    "\n",
    "#打印输出，type函数查看类型\n",
    "print(array1)\n",
    "print(type(array1))"
   ]
  },
  {
   "cell_type": "markdown",
   "id": "b0f493c0",
   "metadata": {},
   "source": [
    "结合numpy库，创建pandas非空数组。*np.arange(start,end,step)* 根据start与stop指定的范围以及step设定的步长，生成一个ndarray对象。"
   ]
  },
  {
   "cell_type": "code",
   "execution_count": null,
   "id": "2ba1f4d2",
   "metadata": {},
   "outputs": [],
   "source": [
    "#1.1 结合Numpy库生成Pandas非空数组\n",
    "nd = np.arange(3,20,3)\n",
    "print(nd)\n",
    "print(type(nd))\n"
   ]
  },
  {
   "cell_type": "markdown",
   "id": "1da4c8b1",
   "metadata": {},
   "source": [
    "结合字典结构，创建Pandas DataFrame。基本格式为：  \n",
    "字典名 = {第一列名字:[第一列元素形成的列表],第二列名字:[第二列元素形成的列表],.....}  \n",
    "pandas数据帧名 = pd.DataFrame(字典名)    <font color=lightblue>PS：也可直接在pd.DataFrame()里编写字典结构。</font>"
   ]
  },
  {
   "cell_type": "code",
   "execution_count": 4,
   "id": "df598cbd",
   "metadata": {},
   "outputs": [
    {
     "name": "stdout",
     "output_type": "stream",
     "text": [
      "{'姓名': ['张三', '李四', '王五', '八哥'], '学号': [1, 2, 3, 4], '班级': ['1班', '2班', '3班', '4班']}\n",
      "<class 'dict'>\n",
      "   姓名  学号  班级\n",
      "0  张三   1  1班\n",
      "1  李四   2  2班\n",
      "2  王五   3  3班\n",
      "3  八哥   4  4班\n"
     ]
    }
   ],
   "source": [
    "#1.2 通过字典结构创建一个Pandas数据帧\n",
    "dictionaries = {\"姓名\":[\"张三\",\"李四\",\"王五\",\"八哥\"],\"学号\":[1,2,3,4],\"班级\":[\"1班\",\"2班\",\"3班\",\"4班\"]}\n",
    "print(dictionaries)\n",
    "print(type(dictionaries))\n",
    "pd1 = pd.DataFrame(dictionaries)\n",
    "print(pd1)\n"
   ]
  },
  {
   "cell_type": "markdown",
   "id": "e3a7f62a",
   "metadata": {},
   "source": [
    "Pandas数据结构基本属性"
   ]
  },
  {
   "cell_type": "code",
   "execution_count": 6,
   "id": "e2c0c649",
   "metadata": {},
   "outputs": [
    {
     "name": "stdout",
     "output_type": "stream",
     "text": [
      "[[ 1  2  3  4]\n",
      " [ 7  3  1  8]\n",
      " [11 22 33 44]]\n",
      "2\n",
      "(3, 4)\n",
      "12\n",
      "int32\n",
      "[[ 1  7 11]\n",
      " [ 2  3 22]\n",
      " [ 3  1 33]\n",
      " [ 4  8 44]]\n",
      "12\n",
      "    0   1   2   3\n",
      "0   1   2   3   4\n",
      "1   7   3   1   8\n",
      "2  11  22  33  44\n",
      "[[ 1  2  3  4]\n",
      " [ 7  3  1  8]\n",
      " [11 22 33 44]]\n",
      "   0  1  2  3\n",
      "0  1  2  3  4\n",
      "1  7  3  1  8\n",
      "    0   1   2   3\n",
      "1   7   3   1   8\n",
      "2  11  22  33  44\n"
     ]
    }
   ],
   "source": [
    "#1.3\n",
    "arr1=np.array([[1,2,3,4],[7,3,1,8],[11,22,33,44]])\n",
    "print(arr1)\n",
    "# pandas数据结构名.ndim 输出数据轴序列(几维数组)\n",
    "print(arr1.ndim)\n",
    "# pandas数据结构名.shape 维度 输出形状（维度）\n",
    "print(arr1.shape)\n",
    "# pandas数据结构名.size 输出元素总个数\n",
    "print(arr1.size)\n",
    "# pandas数据结构名.dtype 输出数据类型\n",
    "print(arr1.dtype)\n",
    "# pandas数据结构名.T 输出数组的行列转置\n",
    "print(arr1.T)\n",
    "# pandas数据结构名.size 输出数组元素数量\n",
    "print(arr1.size)\n",
    "# pandas数据结构名.values 输出实际数据的numpy表示(pd.DataFrame(值))\n",
    "arrData=pd.DataFrame(arr1)\n",
    "print(arrData)\n",
    "print(arrData.values)\n",
    "# pandas数据结构名.head(x) 输出前x行数据\n",
    "print(arrData.head(2))\n",
    "# pandas数据结构名.tail(x) 输出后x行数据\n",
    "print(arrData.tail(2))\n"
   ]
  },
  {
   "cell_type": "markdown",
   "id": "382110f9",
   "metadata": {},
   "source": [
    "<font color=Tomato>**第二部分**</font>-**Pandas数据分析**  \n",
    "\n",
    "请在下面<font color=Tomato>**每一行注释**</font>下添加对应的代码"
   ]
  },
  {
   "cell_type": "markdown",
   "id": "82c7e2cb",
   "metadata": {},
   "source": [
    "<font color=Tomato>2.Pandas操作外部数据</font>"
   ]
  },
  {
   "cell_type": "markdown",
   "id": "6fdc990c",
   "metadata": {},
   "source": [
    "Pandas支持读取外部各类文件如Excel、CSV、Json等等。  \n",
    "基本格式为 Pd.read_csv(文件路径,header =) ， 可以在pd.read_csv()中继续添加参数：  \n",
    "sep = ',' 分隔符;   \n",
    "index_col='Name' 将Name列作为索引;  \n",
    "skiprows=[x] 不取下标为x的行;   \n",
    "nrows=2,usecols=['Name','No'] 取两行、取两列."
   ]
  },
  {
   "cell_type": "code",
   "execution_count": 15,
   "id": "1fd63bf4",
   "metadata": {},
   "outputs": [
    {
     "name": "stdout",
     "output_type": "stream",
     "text": [
      "    Unnamed: 0 一本分数线 Unnamed: 2 二本分数线 Unnamed: 4\n",
      "0          NaN    文科         理科    文科         理科\n",
      "1       2015.0   495        477   446        433\n",
      "2       2011.0   515        502   472        455\n",
      "3       2009.0   516        528   476        476\n",
      "4       2014.0   524        484   481        435\n",
      "5       2013.0   524        494   474        441\n",
      "6       2010.0   528        531   489        478\n",
      "7       2012.0   532        501   489        459\n",
      "8       2016.0   549        550   494        505\n",
      "9       2020.0   555        537   468        439\n",
      "10      2017.0   565        543   507        495\n",
      "11      2021.0   576        532   488        432\n",
      "12      2018.0   579        548   527        495\n",
      "13      2019.0   583        548   532        494\n"
     ]
    }
   ],
   "source": [
    "#2.1 简单读取外部CSV文件\n",
    "excels = pd.read_excel(\"D:\\实验3 高考分数scores.xlsx\")\n",
    "print(excels)"
   ]
  },
  {
   "cell_type": "code",
   "execution_count": 16,
   "id": "d270cb7d",
   "metadata": {},
   "outputs": [
    {
     "name": "stdout",
     "output_type": "stream",
     "text": [
      "     Unnamed: 0   理科  文科.1  理科.1\n",
      "文科                              \n",
      "495        2015  477   446   433\n",
      "515        2011  502   472   455\n",
      "516        2009  528   476   476\n"
     ]
    }
   ],
   "source": [
    "#2.2 条件读取外部CSV文件\n",
    "excels = pd.read_excel(\"D:\\实验3 高考分数scores.xlsx\",header=1,index_col=\"文科\",nrows=3)\n",
    "print(excels)"
   ]
  },
  {
   "cell_type": "markdown",
   "id": "aea2b8e9",
   "metadata": {},
   "source": [
    "各列元素数量为：df.count()\n",
    "各列元素平均值为：df.mean()  \n",
    "各列元素总和为：df.sum()  \n",
    "各列元素中位数为：df.median()  "
   ]
  },
  {
   "cell_type": "code",
   "execution_count": 17,
   "id": "bc0c9316",
   "metadata": {},
   "outputs": [
    {
     "name": "stdout",
     "output_type": "stream",
     "text": [
      "{'a': [1, 2, 3, 4], 'b': [5, 6, 7, 8], 'c': [9, 10, 11, 12]}\n",
      "   a  b   c\n",
      "0  1  5   9\n",
      "1  2  6  10\n",
      "2  3  7  11\n",
      "3  4  8  12\n",
      "a    1\n",
      "b    5\n",
      "c    9\n",
      "dtype: int64\n",
      "a     4\n",
      "b     8\n",
      "c    12\n",
      "dtype: int64\n",
      "   a  b   c\n",
      "0  1  5   9\n",
      "1  2  6  10\n",
      "2  3  7  11\n",
      "3  4  8  12\n",
      "    a     b      c\n",
      "0   1     5      9\n",
      "1   2    30     90\n",
      "2   6   210    990\n",
      "3  24  1680  11880\n",
      "          a     b      c\n",
      "count  4.00  4.00   4.00\n",
      "mean   2.50  6.50  10.50\n",
      "std    1.29  1.29   1.29\n",
      "min    1.00  5.00   9.00\n",
      "25%    1.75  5.75   9.75\n",
      "50%    2.50  6.50  10.50\n",
      "75%    3.25  7.25  11.25\n",
      "max    4.00  8.00  12.00\n"
     ]
    },
    {
     "data": {
      "text/plain": [
       "'\\n求单列元素 则在()中加入axis=1 表示求第一列元素的平均值/总和/中位数....\\n'"
      ]
     },
     "execution_count": 17,
     "metadata": {},
     "output_type": "execute_result"
    }
   ],
   "source": [
    "#2.3 数据描述性统计\n",
    "d = {'a':[1,2,3,4],  \n",
    "     'b':[5,6,7,8],\n",
    "     'c':[9,10,11,12]}\n",
    "print(d)\n",
    "#将d转化为pandas数组 格式为：pandas数据帧名 = pd.DataFrame(字典名)\n",
    "df = pd.DataFrame(d)\n",
    "print(df)\n",
    "#各列元素最小为：\n",
    "print(df.min())\n",
    "#各列元素最大为：\n",
    "print(df.max())\n",
    "#各列元素绝对值为：\n",
    "print(df.abs())\n",
    "#数组元素累积乘积：\n",
    "print(df.cumprod())\n",
    "#全描述性统计信息：df.describe()    (round()控制小数位)\n",
    "print(df.describe().round(2))\n",
    "'''\n",
    "求单列元素 则在()中加入axis=1 表示求第一列元素的平均值/总和/中位数....\n",
    "'''"
   ]
  },
  {
   "cell_type": "markdown",
   "id": "0c417c3e",
   "metadata": {},
   "source": [
    "<font color=Tomato>**第三部分**</font>-**实验操作**  \n",
    "\n",
    "请在根据给出数据<font color=Tomato>**编写代码**</font>进行分析，给出<font color=Tomato>**下面问题**</font>的答案。"
   ]
  },
  {
   "cell_type": "markdown",
   "id": "6faaceeb",
   "metadata": {},
   "source": [
    "Q1: 一本文理科与二本文理科最高分数线是多少？最低分数线是多少？相差多大？\n",
    "\n",
    "\n",
    "Q2:  2021和2020比，高考线分别变化了多少分，高考越来越难吗？\n",
    "\n",
    "\n",
    "Q3: 预测今年每科分数线（可使用近12年的每科平均值）\n"
   ]
  },
  {
   "cell_type": "code",
   "execution_count": 18,
   "id": "1d742c80",
   "metadata": {
    "scrolled": true
   },
   "outputs": [
    {
     "name": "stdout",
     "output_type": "stream",
     "text": [
      "     一本分数线      二本分数线     \n",
      "        文科   理科    文科   理科\n",
      "2015   495  477   446  433\n",
      "2011   515  502   472  455\n",
      "2009   516  528   476  476\n",
      "2014   524  484   481  435\n",
      "2013   524  494   474  441\n",
      "2010   528  531   489  478\n",
      "2012   532  501   489  459\n",
      "2016   549  550   494  505\n",
      "2020   555  537   468  439\n",
      "2017   565  543   507  495\n",
      "2021   576  532   488  432\n",
      "2018   579  548   527  495\n",
      "2019   583  548   532  494\n",
      "     一本分数线      二本分数线     \n",
      "        文科   理科    文科   理科\n",
      "2021   576  532   488  432\n",
      "2020   555  537   468  439\n",
      "2019   583  548   532  494\n",
      "2018   579  548   527  495\n",
      "2017   565  543   507  495\n",
      "2016   549  550   494  505\n",
      "2015   495  477   446  433\n",
      "2014   524  484   481  435\n",
      "2013   524  494   474  441\n",
      "2012   532  501   489  459\n",
      "2011   515  502   472  455\n",
      "2010   528  531   489  478\n",
      "2009   516  528   476  476\n",
      "最高分数线：\n",
      "一本分数线  文科    583\n",
      "       理科    550\n",
      "二本分数线  文科    532\n",
      "       理科    505\n",
      "dtype: int64\n",
      "最低分线：\n",
      "一本分数线  文科    495\n",
      "       理科    477\n",
      "二本分数线  文科    446\n",
      "       理科    432\n",
      "dtype: int64\n",
      "一本和二本的最高分差值：\n",
      "文科    88\n",
      "理科    73\n",
      "dtype: int64\n",
      "一本和二本的最低分差值：\n",
      "文科    86\n",
      "理科    73\n",
      "dtype: int64\n",
      "2021和2020比，高考线文理科的分数变化：\n",
      " 一本分数线  文科    21\n",
      "       理科     5\n",
      "二本分数线  文科    20\n",
      "       理科     7\n",
      "dtype: int64\n",
      "高考是否越来越难:是\n",
      "预测今年每科的分数线：\n",
      " 一本分数线  文科    410.0\n",
      "       理科    395.0\n",
      "二本分数线  文科    370.0\n",
      "       理科    354.0\n",
      "dtype: float64\n"
     ]
    }
   ],
   "source": [
    "#代码部分\n",
    "\n",
    "#导入数据\n",
    "data = pd.read_excel(\"D:\\实验3 高考分数scores.xlsx\",index_col=0,header=[0,1])\n",
    "print(data)\n",
    "\n",
    "# 排序让数据显示更符合业务规则（最近的放在前面） \n",
    "sortData = data.sort_index(axis=0,ascending=False)\n",
    "print(sortData)\n",
    "\n",
    "#输出一本二本文理科的最高和最低分数线\n",
    "arts_max1 = data.max()\n",
    "arts_min1 = data.min()\n",
    "print(f\"最高分数线：\\n{arts_max1}\\n最低分线：\\n{arts_min1}\")\n",
    "\n",
    "#输出一本二本文理科的最高分和最低分的差值\n",
    "data1=data[\"一本分数线\"]\n",
    "data2=data[\"二本分数线\"]\n",
    "max_diff = np.ptp(data1,axis=0)\n",
    "min_diff = np.ptp(data2,axis=0)\n",
    "print(f\"一本和二本的最高分差值：\\n{max_diff}\")\n",
    "print(f\"一本和二本的最低分差值：\\n{min_diff}\")\n",
    "\n",
    "#计算2021和2020比，高考线分别变化了多少分，高考越来越难吗？\n",
    "diff_20and21 = np.ptp(data.loc[[2020,2021]],axis=0)\n",
    "print(\"2021和2020比，高考线文理科的分数变化：\\n\",diff_20and21)\n",
    "\n",
    "easy_or_hard = (diff_20and21.mean()>0) and '是' or '否'\n",
    "print(f\"高考是否越来越难:{easy_or_hard}\")\n",
    "\n",
    "#预测今年每科分数线（可使用近12年的每科平均值）\n",
    "meanData = data.describe().mean()\n",
    "print(\"预测今年每科的分数线：\\n\",round(meanData))\n",
    "\n",
    "\n",
    "\n"
   ]
  },
  {
   "cell_type": "code",
   "execution_count": null,
   "id": "28850afb",
   "metadata": {},
   "outputs": [],
   "source": []
  }
 ],
 "metadata": {
  "kernelspec": {
   "display_name": "Python 3 (ipykernel)",
   "language": "python",
   "name": "python3"
  },
  "language_info": {
   "codemirror_mode": {
    "name": "ipython",
    "version": 3
   },
   "file_extension": ".py",
   "mimetype": "text/x-python",
   "name": "python",
   "nbconvert_exporter": "python",
   "pygments_lexer": "ipython3",
   "version": "3.11.5"
  }
 },
 "nbformat": 4,
 "nbformat_minor": 5
}
