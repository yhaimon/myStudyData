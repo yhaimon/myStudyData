{
 "cells": [
  {
   "cell_type": "markdown",
   "id": "26d851d7",
   "metadata": {},
   "source": [
    "## 实验二 "
   ]
  },
  {
   "cell_type": "markdown",
   "id": "d41ac187",
   "metadata": {},
   "source": [
    "<font color=Tomato>**NumPy**</font>是用于科学计算的一个开源的Python程序库，代表 “Numeric Python”。\n",
    "它为Python提供了高性能数组与矩阵运算处理能力，为数据分析提供了数据处理的基础功能。\n"
   ]
  },
  {
   "cell_type": "markdown",
   "id": "313efb9b",
   "metadata": {},
   "source": [
    "<font color=Tomato>**第一部分**</font>-Numpy科学计算  \n",
    "\n",
    "请在下面<font color=Tomato>**每一行注释**</font>下添加对应的代码"
   ]
  },
  {
   "cell_type": "code",
   "execution_count": 6,
   "id": "53ec2219",
   "metadata": {},
   "outputs": [],
   "source": [
    "#导入numpy库，并取一个别名np\n",
    "import numpy as np"
   ]
  },
  {
   "cell_type": "markdown",
   "id": "38172836",
   "metadata": {},
   "source": [
    "<font color=Tomato>1. 普通数组创建</font>  \n",
    "\n",
    "函数array可以将Python的列表、元组、数组或其他序列类型作为参数创建ndarray数组。\n",
    "\n",
    "格式为 *数组名 = np.array(x)*，x为其他序列类型。\n"
   ]
  },
  {
   "cell_type": "code",
   "execution_count": 7,
   "id": "5639ad3c",
   "metadata": {},
   "outputs": [
    {
     "name": "stdout",
     "output_type": "stream",
     "text": [
      "a= [1 2 3 4]\n",
      "类型: <class 'numpy.ndarray'>\n",
      "二维列表：\n",
      " [[1 2 3]\n",
      " [4 5 6]\n",
      " [7 8 9]]\n",
      "<class 'tuple'> ： ('我是元组', 3, 2, 2)\n",
      "<class 'dict'> ： {'年级': '21本', '班级': '计科9', '序号': 31}\n",
      "<class 'str'> ： 我是字符串啊啊！\n"
     ]
    }
   ],
   "source": [
    "#1.1 生成一维列表作为array参数\n",
    "a = np.array([1,2,3,4])\n",
    "print(\"a=\",a)\n",
    "\n",
    "#1.2 打印输出，type函数查看类型\n",
    "print(\"类型:\",type(a))\n",
    "\n",
    "#1.3 生成二维列表作为array参数\n",
    "print(\"二维列表：\\n\",np.array([[1,2,3],[4,5,6],[7,8,9]]))\n",
    "\n",
    "#1.4 生成元组作为array参数\n",
    "c = ('我是元组',3,2,2)\n",
    "print(type(c),\"：\",c)\n",
    "\n",
    "#1.5 生成字典作为array参数\n",
    "d = {\"年级\":\"21本\",\"班级\":\"计科9\",\"序号\":31}\n",
    "print(type(d),\"：\",d)\n",
    "\n",
    "#1.6 生成字符串作为array参数\n",
    "e = \"我是字符串啊啊！\"\n",
    "print(type(e),\"：\",e)\n"
   ]
  },
  {
   "cell_type": "markdown",
   "id": "9bafb55a",
   "metadata": {},
   "source": [
    "<font color=Tomato>2. 特殊数组创建  </font>    \n",
    "\n",
    "*np.empty((x1,x2))* 创建一个指定维度、数据类型的未初始化的数组；  \n",
    "\n",
    "*np.zeros((x1,x2))* 创建x1行x2列的numpy数组，元素均为0；  \n",
    "\n",
    "*np.ones((x1,x2))* 创建x1行x2列的numpy数组，元素均为1；  \n",
    "    \n",
    "*np.eye(x1)* 创建x1行x1列的numpy数组，对角线元素均为1，其余为0。"
   ]
  },
  {
   "cell_type": "code",
   "execution_count": 43,
   "id": "87943af5",
   "metadata": {},
   "outputs": [
    {
     "name": "stdout",
     "output_type": "stream",
     "text": [
      "[[0.    1.875 0.   ]\n",
      " [1.875 0.    1.875]]\n",
      "[[0. 0. 0. 0. 0.]\n",
      " [0. 0. 0. 0. 0.]\n",
      " [0. 0. 0. 0. 0.]]\n",
      "[[1. 1.]\n",
      " [1. 1.]\n",
      " [1. 1.]\n",
      " [1. 1.]]\n",
      "[[1. 0. 0.]\n",
      " [0. 1. 0.]\n",
      " [0. 0. 1.]]\n"
     ]
    }
   ],
   "source": [
    "#2.1 创建2行3列的numpy数组，元素均为0\n",
    "# print(np.empty((2,3)))  ***(,dtype='float32')...不支持np.empty(())该写法***\n",
    "print(np.zeros((2,3)))\n",
    "\n",
    "#2.2 创建3行5列的numpy数组，元素均为0\n",
    "print(np.zeros([3,5]))\n",
    "\n",
    "#2.3 创建4行2列的numpy数组，元素均为1\n",
    "print(np.ones([4,2]))\n",
    "\n",
    "#2.4 创建3行3列的numpy数组，对角线元素均为1，其余为0\n",
    "print(np.eye(3))"
   ]
  },
  {
   "cell_type": "markdown",
   "id": "7751ebe5",
   "metadata": {},
   "source": [
    "<font color=Tomato>3. 随机数组创建  </font>  \n",
    "\n",
    "*np.random.rand(x1, x2)*, 产生[0, 1)范围的浮点随机数  \n",
    "\n",
    "*np.random.randint(x1, x2,size=(x3, x4))*, 产生x1至x2范围的随机整数，生成x3行x4列。 "
   ]
  },
  {
   "cell_type": "code",
   "execution_count": 24,
   "id": "8c80392e",
   "metadata": {},
   "outputs": [
    {
     "name": "stdout",
     "output_type": "stream",
     "text": [
      "[[0.417022   0.72032449]]\n",
      "[[5 0 0 1]\n",
      " [7 6 2 4]\n",
      " [5 2 4 2]]\n"
     ]
    }
   ],
   "source": [
    "#3.1 生成1行2列数组，值服从[0, 1)之间的均匀分布。\n",
    "np.random.seed(1)   #作用：使产生的随机数不变\n",
    "print(np.random.rand(1,2))\n",
    "\n",
    "#3.2 生成3行4列数组，值范围在0到9之间。\n",
    "print(np.random.randint(0,9,size=(3,4)))"
   ]
  },
  {
   "cell_type": "markdown",
   "id": "476e7d74",
   "metadata": {},
   "source": [
    "<font color=Tomato>4. 数值范围创建 </font>     \n",
    "\n",
    "*np.arange([start, ]stop, [step, ]dtype=None)* \n",
    "    \n",
    "start:起点值；可忽略不写，默认从0开始；stop:终点值；生成的元素不包括结束值；step:步长；可忽略不写，默认步长为1；dtype:默认为None，设置显示元素的数据类型。 \n",
    "    \n",
    " *np.linspace(start,end,num)*  \n",
    " \n",
    " 通过定义均匀间隔创建数值序列。其实，需要指定间隔起始点、终止端，以及指定分隔值总数（包括起始点和终止点）；最终函数返回间隔类均匀分布的数值序列。\n"
   ]
  },
  {
   "cell_type": "code",
   "execution_count": 72,
   "id": "24b1e8b0",
   "metadata": {},
   "outputs": [
    {
     "name": "stdout",
     "output_type": "stream",
     "text": [
      "[3.  3.5 4.  4.5 5.  5.5 6.  6.5 7. ]\n"
     ]
    },
    {
     "data": {
      "text/plain": [
       "array([  5,  15,  26,  36,  47,  57,  68,  78,  89, 100])"
      ]
     },
     "execution_count": 72,
     "metadata": {},
     "output_type": "execute_result"
    }
   ],
   "source": [
    "#4.1 生成终点值为7，起点值为3，步长为0.5(小数)的数组。\n",
    "print(np.arange(3,7.5,0.5,float))\n",
    "\n",
    "#4.2 生成起点值为5，终点值为100，分隔值为10的数组。\n",
    "np.linspace(5,100,num=10,endpoint=True,retstep=False,dtype=int)\n"
   ]
  },
  {
   "cell_type": "markdown",
   "id": "1d0f30dd",
   "metadata": {},
   "source": [
    "<font color=Tomato>5. 列表转数组，数组转列表</font>  \n",
    "\n",
    "列表转数组 *np.asarray(list)*  \n",
    "\n",
    "数组转列表 *np.ndarray.tolist(array)*"
   ]
  },
  {
   "cell_type": "code",
   "execution_count": 84,
   "id": "08845a5c",
   "metadata": {},
   "outputs": [
    {
     "name": "stdout",
     "output_type": "stream",
     "text": [
      "[1 2 3 4 5]\n",
      "[1, 2, 3, 4, 5]\n"
     ]
    }
   ],
   "source": [
    "#5.1 将[1,2,3,4,5]转换为numpy数组\n",
    "a = np.asarray([1, 2, 3, 4, 5])\n",
    "print(a)\n",
    "\n",
    "#5.2 将numpy数组转换回列表[1,2,3,4,5]\n",
    "print(np.ndarray.tolist(a))"
   ]
  },
  {
   "cell_type": "markdown",
   "id": "ac9c1186",
   "metadata": {},
   "source": [
    "<font color=Tomato>6. 数组对象属性</font>  \n"
   ]
  },
  {
   "cell_type": "code",
   "execution_count": 81,
   "id": "cb7656c0",
   "metadata": {},
   "outputs": [
    {
     "name": "stdout",
     "output_type": "stream",
     "text": [
      "2\n",
      "(2, 3)\n",
      "6\n",
      "int32\n",
      "[[1 4]\n",
      " [2 5]\n",
      " [3 6]]\n"
     ]
    }
   ],
   "source": [
    "import numpy as np\n",
    "#根据下面数组完成练习\n",
    "P6 = np.array([[1,2,3],[4,5,6]]) \n",
    "\n",
    "#6.1 np.ndim 数据轴个数  (返回数组的维度，返回的只有一个数)\n",
    "print(np.ndim(P6))\n",
    "\n",
    "#6.2 np.shape 维度  (表示各位维度大小的元组。返回的是一个元组。)\n",
    "print(np.shape(P6))\n",
    "\n",
    "#6.3 np.size 元素总个数\n",
    "print(np.size(P6))\n",
    "\n",
    "#6.4 np.dtype 数据类型\n",
    "print(P6.dtype)\n",
    "\n",
    "#6.5 np.T 数组的行列转置   \n",
    "print(P6.T)\n",
    "\n",
    "#6.6 使用astype()把数组元素转换为浮点型，用dtype查看明确数据类型。\n",
    "float_P6 = P6.astype(np.float64)\n",
    "print(float_P6)\n",
    "print(float_P6.dtype)"
   ]
  },
  {
   "cell_type": "markdown",
   "id": "e51e7b1c",
   "metadata": {},
   "source": [
    "<font color=Tomato>**第二部分**</font>-Numpy数组操作  \n",
    " \n",
    "请在下面<font color=Tomato>**每一行注释**</font>下添加对应的代码"
   ]
  },
  {
   "cell_type": "markdown",
   "id": "1fe42afe",
   "metadata": {},
   "source": [
    "<font color=Tomato>7. 修改数组形状</font>  \n",
    "\n",
    "*reshape(x1,x2)* ， 不改变数据的条件下,将数组的形状改为x1行x2列。  \n",
    "\n",
    "*数组名.transpose()* ，对换数组的维度，注意该函数不带参数。  \n",
    "\n",
    "*np.swapaxes(numpy数组名,0,1)* ， 将第1轴与第2轴数据交换。"
   ]
  },
  {
   "cell_type": "code",
   "execution_count": 24,
   "id": "2c30c49d",
   "metadata": {},
   "outputs": [
    {
     "name": "stdout",
     "output_type": "stream",
     "text": [
      "[[ 0  1  2  3]\n",
      " [ 4  5  6  7]\n",
      " [ 8  9 10 11]]\n",
      "[[ 0  1]\n",
      " [ 2  3]\n",
      " [ 4  5]\n",
      " [ 6  7]\n",
      " [ 8  9]\n",
      " [10 11]]\n"
     ]
    }
   ],
   "source": [
    "#7.1 创建包含12个数的一维numpy数组,更改形状为3行4列\n",
    "array_12 = np.arange(0,12).reshape(3,4)\n",
    "print(array_12)\n",
    "\n",
    "#再次更改形状为6行2列\n",
    "print(array_12.reshape(6,2))"
   ]
  },
  {
   "cell_type": "code",
   "execution_count": 23,
   "id": "449f83de",
   "metadata": {},
   "outputs": [
    {
     "name": "stdout",
     "output_type": "stream",
     "text": [
      "[[0 1 2]\n",
      " [3 4 5]]\n",
      "[[0 3]\n",
      " [1 4]\n",
      " [2 5]]\n",
      "[[0 3]\n",
      " [1 4]\n",
      " [2 5]]\n"
     ]
    }
   ],
   "source": [
    "#7.2 创建包含6个数的一维numpy数组,更改形状为2行3列\n",
    "array_6 = np.arange(6).reshape(2,3)\n",
    "print(array_6)\n",
    "\n",
    "#将上一步创建好的数组，行列对换\n",
    "print(array_6.transpose())\n",
    "\n",
    "#将第1轴与第2轴数据交换\n",
    "print(np.swapaxes(array_6,0,1))"
   ]
  },
  {
   "cell_type": "markdown",
   "id": "e255c65e",
   "metadata": {},
   "source": [
    "<font color=Tomato>8. 数组链接&分割数组</font>  \n",
    "\n",
    "*数组名 = np.concatenate((数组1,数组2))* ， 沿指定轴连接相同形状的两个数组；  \n",
    "\n",
    "*数组名 = np.hstack((数组1,数组2))* ，水平堆叠；  \n",
    "\n",
    "*数组名 = np.vstack((数组1,数组2))* ， 竖直堆叠。\n"
   ]
  },
  {
   "cell_type": "code",
   "execution_count": 16,
   "id": "c0e6b94b",
   "metadata": {},
   "outputs": [
    {
     "name": "stdout",
     "output_type": "stream",
     "text": [
      "连接：\n",
      " [[ 1  2]\n",
      " [ 3  4]\n",
      " [11 12]\n",
      " [13 14]]\n",
      "水平堆叠：\n",
      " [[ 1  2 11 12]\n",
      " [ 3  4 13 14]]\n",
      "竖直堆叠：\n",
      " [[ 1  2]\n",
      " [ 3  4]\n",
      " [11 12]\n",
      " [13 14]]\n"
     ]
    }
   ],
   "source": [
    "a = np.array([[1,2],[3,4]])\n",
    "b = np.array([[11,12],[13,14]])\n",
    "#8.1 连接a,b两个数组\n",
    "print(\"连接：\\n\",np.concatenate((a,b)))\n",
    "\n",
    "#8.2 水平堆叠a,b两个数组\n",
    "print(\"水平堆叠：\\n\",np.hstack((a,b)))\n",
    "\n",
    "#8.3 竖直堆叠a,b两个数组\n",
    "print(\"竖直堆叠：\\n\",np.vstack((a,b)))"
   ]
  },
  {
   "cell_type": "markdown",
   "id": "7ebd584e",
   "metadata": {},
   "source": [
    "*np.hsplit(numpy数组,x)* ， 沿x号维度水平分割numpy数组；  \n",
    "\n",
    "*np.vsplit(numpy数组,x)* ， 沿x号维度垂直分割numpy数组。"
   ]
  },
  {
   "cell_type": "code",
   "execution_count": 46,
   "id": "e89be72e",
   "metadata": {},
   "outputs": [
    {
     "name": "stdout",
     "output_type": "stream",
     "text": [
      "[[ 0  1  2  3  4  5]\n",
      " [ 6  7  8  9 10 11]\n",
      " [12 13 14 15 16 17]\n",
      " [18 19 20 21 22 23]] \n",
      "\n",
      "[array([[ 0,  1],\n",
      "       [ 6,  7],\n",
      "       [12, 13],\n",
      "       [18, 19]]), array([[ 2,  3],\n",
      "       [ 8,  9],\n",
      "       [14, 15],\n",
      "       [20, 21]]), array([[ 4,  5],\n",
      "       [10, 11],\n",
      "       [16, 17],\n",
      "       [22, 23]])] \n",
      "\n",
      "[array([[ 0,  1,  2,  3,  4,  5],\n",
      "       [ 6,  7,  8,  9, 10, 11]]), array([[12, 13, 14, 15, 16, 17],\n",
      "       [18, 19, 20, 21, 22, 23]])]\n"
     ]
    }
   ],
   "source": [
    "c = np.arange(24).reshape(4,6)\n",
    "#8.4 np.hsplit(numpy数组,x) 沿x号维度水平分割numpy数组\n",
    "print(c,\"\\n\")\n",
    "print(np.hsplit(c,3),\"\\n\")\n",
    "#8.5 np.vsplit(numpy数组,x) 沿x号维度垂直分割numpy数组\n",
    "print(np.vsplit(c,2))"
   ]
  },
  {
   "cell_type": "markdown",
   "id": "440033c1",
   "metadata": {},
   "source": [
    "<font color=Tomato>9. 数组元素添加与删除</font>   \n",
    "\n",
    "*数组名.resize(a, new_shape)* a：要被resize的数组 ；new_shape：被resize的大小，int或者tuple类型 \n",
    "\n",
    "<font color=Tomato>注意：</font>  numpy.resize(a, new_shape)和a.resize(new_shape)方法不同\n",
    "\n",
    "如果new_shape与a相同：二者操作一致，不同处为a.resize为in_place操作\n",
    "\n",
    "如果new_shape与a不同：二者操作不一致，numpy.resize会取a中的元素进行填充，而a.resize会用0进行填充\n"
   ]
  },
  {
   "cell_type": "code",
   "execution_count": 36,
   "id": "c521803d",
   "metadata": {},
   "outputs": [
    {
     "name": "stdout",
     "output_type": "stream",
     "text": [
      "d= [[ 0  1  2  3]\n",
      " [ 4  5  6  7]\n",
      " [ 8  9 10 11]] \n",
      "\n"
     ]
    },
    {
     "data": {
      "text/plain": [
       "array([[ 0,  1,  2],\n",
       "       [ 3,  4,  5],\n",
       "       [ 6,  7,  8],\n",
       "       [ 9, 10, 11]])"
      ]
     },
     "execution_count": 36,
     "metadata": {},
     "output_type": "execute_result"
    }
   ],
   "source": [
    "d = np.arange(12).reshape(3,4)\n",
    "\n",
    "#9.1 根据数组d返回4行3列的新数组 \n",
    "print(\"d=\",d,\"\\n\")\n",
    "np.resize(d,(4,3))"
   ]
  },
  {
   "cell_type": "markdown",
   "id": "82adfbd2",
   "metadata": {},
   "source": [
    "*新数组名 = np.append(旧数组名,x)* ,  将x添加到数组末尾\n",
    "\n",
    "*新数组名 = np.append(旧数组名,x,axis=0)* , 将x添加到数组末尾 维持原有形状  "
   ]
  },
  {
   "cell_type": "code",
   "execution_count": 50,
   "id": "588a9032",
   "metadata": {},
   "outputs": [
    {
     "name": "stdout",
     "output_type": "stream",
     "text": [
      "[[0 1 2]\n",
      " [3 4 5]]\n",
      "[0 1 2 3 4 5 9] \n",
      "\n",
      "[[0 1 2]\n",
      " [3 4 5]\n",
      " [1 2 3]]\n"
     ]
    }
   ],
   "source": [
    "e = np.arange(6).reshape(2,3)\n",
    "#9.2 将单个元素9添加到数组e末尾\n",
    "print(e)\n",
    "print(np.append(e,9),\"\\n\")\n",
    "#9.3 添加数组[1,2,3]至数组e末尾,维持原有形状  (必须与数组中元素形状一样[ x,x ,x] )\n",
    "print(np.append(e,[[1,2,3]],axis=0))"
   ]
  },
  {
   "cell_type": "markdown",
   "id": "0663868c",
   "metadata": {},
   "source": [
    "*np.insert(arr, obj, values, axis)*    \n",
    "\n",
    "arr原始数组，可一可多，obj插入元素位置，values是插入内容，axis是按行按列插入（0：行、1：列）；  \n",
    "<font color=Tomato>注意：</font> 如果axis没有给出，相当于是做降维操作，与一维数组一致。\n",
    "\n",
    "*np.delete(arr,obj,axis=None)*    \n",
    "arr原始数组 ，obj表明哪一个子向量应该被移除，可以为整数或一个int型的向量， axis表明删除哪个轴的子向量，若默认，则返回一个被拉平的向量。"
   ]
  },
  {
   "cell_type": "code",
   "execution_count": 60,
   "id": "f8922504",
   "metadata": {},
   "outputs": [
    {
     "name": "stdout",
     "output_type": "stream",
     "text": [
      "[[1 2 3]\n",
      " [7 8 9]\n",
      " [4 5 6]]\n",
      "\n",
      "f= [[1 2 3]\n",
      " [4 5 6]] \n",
      "\n"
     ]
    },
    {
     "data": {
      "text/plain": [
       "array([[1, 2],\n",
       "       [4, 5]])"
      ]
     },
     "execution_count": 60,
     "metadata": {},
     "output_type": "execute_result"
    }
   ],
   "source": [
    "f = np.array([[1,2,3],[4,5,6]]) \n",
    "#9.4 按行插入数组[7,8,9]至数组f，插入元素位置为1\n",
    "print(np.insert(f,1,[[7,8,9]],axis=0))\n",
    "#9.5 删除数组f第三列元素\n",
    "print(\"\\nf=\",f,\"\\n\")\n",
    "np.delete(f,2,axis=1)"
   ]
  },
  {
   "cell_type": "markdown",
   "id": "6f65b90d",
   "metadata": {},
   "source": [
    "<font color=Tomato>**第三部分**</font>-Numpy数组索引与切片\n",
    " \n",
    "请在下面<font color=Tomato>**每一行注释**</font>下添加对应的代码"
   ]
  },
  {
   "cell_type": "markdown",
   "id": "f5477dfb",
   "metadata": {},
   "source": [
    "*数组名[x]* x为下标   \n",
    "\n",
    "*数组名[x:y]* x,y为分片区域下标 访问[x,y)上的元素\n",
    "\n",
    "*数组名[x][y]* 表示矩阵第x行第y列元素\n",
    "\n",
    "*数组名[x1:x2]* 表示矩阵第x1到x2行的元素 [x1,x2)\n",
    "\n",
    "*数组名[x1:x2, y1:y2]* 表示矩阵第x1到x2行以及y1到y2列的元素"
   ]
  },
  {
   "cell_type": "code",
   "execution_count": 45,
   "id": "aff9d227",
   "metadata": {},
   "outputs": [
    {
     "name": "stdout",
     "output_type": "stream",
     "text": [
      "1\n",
      "[1 3 5 7]\n",
      "h= [[13 15 17 19]\n",
      " [12 14 16 18]\n",
      " [11 12 13 15]]\n",
      "15\n",
      "[[12 14 16 18]\n",
      " [11 12 13 15]]\n",
      "[[14 16]\n",
      " [12 13]]\n"
     ]
    }
   ],
   "source": [
    "#10.1 \n",
    "g = np.array([1,3,5,7,9,11])\n",
    "#访问数组第一个元素\n",
    "print(g[0])\n",
    "\n",
    "#访问数组第一个元素至第四个元素\n",
    "print(g[:4])\n",
    "\n",
    "#10.2 \n",
    "h = np.array([[13,15,17,19],[12,14,16,18],[11,12,13,15]])\n",
    "#访问数组第一行第二列元素\n",
    "print(\"h=\",h)\n",
    "print(h[0][1])\n",
    "\n",
    "#访问数组第二行至第三行元素 \n",
    "print(h[1:3][:])\n",
    "\n",
    "#访问数组第二行至第三行 以及 第二列到第三列 的元素        *****易错题*****\n",
    "print(h[1:3,1:3])"
   ]
  },
  {
   "cell_type": "markdown",
   "id": "f51b991c",
   "metadata": {},
   "source": [
    "<font color=Tomato>**第四部分**</font>-Numpy数组运算\n",
    " \n",
    "请在下面<font color=Tomato>**每一行注释**</font>下添加对应的代码"
   ]
  },
  {
   "cell_type": "markdown",
   "id": "c641e32d",
   "metadata": {},
   "source": [
    "*数组内每个元素扩大x倍,格式为 数组名*x\n",
    "\n",
    "*平方 格式为 np.power(数组名,2)*  \n",
    "\n",
    "*开方 格式为 np.sqrt(数组名)*\n",
    "\n",
    "*求和 格式为 数组名.sum()*\n",
    "\n",
    "*求平均 格式为 数组名.mean()*\n",
    "\n",
    "*求最大数 格式为 数组名.max()*"
   ]
  },
  {
   "cell_type": "code",
   "execution_count": 11,
   "id": "ee206ea7",
   "metadata": {},
   "outputs": [
    {
     "name": "stdout",
     "output_type": "stream",
     "text": [
      "[ 2  8 18 32]\n",
      "[  1  16  81 256]\n",
      "[1. 2. 3. 4.]\n",
      "30\n",
      "7.5\n",
      "16\n"
     ]
    }
   ],
   "source": [
    "#10.3 \n",
    "i = np.array([1,4,9,16])\n",
    "#数组内每个元素扩大2倍   ****或者使用：np.multiply(i,2) ***\n",
    "print(i * 2)\n",
    "\n",
    "#数组内每个元素平方\n",
    "print(np.power(i,2))\n",
    "\n",
    "#数组内每个元素开方\n",
    "print(np.sqrt(i))\n",
    "\n",
    "#数组求和\n",
    "print(i.sum())\n",
    "\n",
    "#数组求平均\n",
    "print(i.mean())\n",
    "\n",
    "#数组求最大值\n",
    "print(i.max())"
   ]
  },
  {
   "cell_type": "markdown",
   "id": "df71e968",
   "metadata": {},
   "source": [
    "去重与排序\n",
    "\n",
    "去重: 新数组 = np.unique(老数组)\n",
    "\n",
    "排序: 新数组 = np.sort(老数组,x) x为0表示按行，1表示按列"
   ]
  },
  {
   "cell_type": "code",
   "execution_count": 9,
   "id": "01302371",
   "metadata": {},
   "outputs": [
    {
     "name": "stdout",
     "output_type": "stream",
     "text": [
      "原h： [ 1  1  2  2 16] \n",
      "\n",
      "去重后： [ 1  2 16]\n",
      "\n",
      "行排序： [ 1  1  2  2 16]\n"
     ]
    }
   ],
   "source": [
    "#10.4\n",
    "h = np.array([1,1,2,2,16])\n",
    "#数组去重\n",
    "print(\"原h：\",h,\"\\n\")\n",
    "print(\"去重后：\",np.unique(h))\n",
    "#数组排序\n",
    "print(\"\\n行排序：\",np.sort(h,0))"
   ]
  },
  {
   "cell_type": "code",
   "execution_count": null,
   "id": "3faa1a03",
   "metadata": {},
   "outputs": [],
   "source": []
  }
 ],
 "metadata": {
  "kernelspec": {
   "display_name": "Python 3 (ipykernel)",
   "language": "python",
   "name": "python3"
  },
  "language_info": {
   "codemirror_mode": {
    "name": "ipython",
    "version": 3
   },
   "file_extension": ".py",
   "mimetype": "text/x-python",
   "name": "python",
   "nbconvert_exporter": "python",
   "pygments_lexer": "ipython3",
   "version": "3.11.5"
  }
 },
 "nbformat": 4,
 "nbformat_minor": 5
}
