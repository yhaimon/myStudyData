{
 "cells": [
  {
   "cell_type": "markdown",
   "id": "c23d3aab",
   "metadata": {},
   "source": [
    "## 实验三 \n",
    " \n"
   ]
  },
  {
   "cell_type": "markdown",
   "id": "9119e19a",
   "metadata": {},
   "source": [
    "<font color=Tomato>**Pandas**</font>是一个开源的第三方 Python 库，从 Numpy 和 Matplotlib 的基础上构建而来，享有数据分析“三剑客之一”的盛名（NumPy、Matplotlib、Pandas）。Pandas 已经成为 Python 数据分析的必备高级工具，它的目标是成为强大、灵活、可以支持任何编程语言的数据分析工具。  "
   ]
  },
  {
   "cell_type": "markdown",
   "id": "35ed31a0",
   "metadata": {},
   "source": [
    "<font color=Tomato>**第一部分**</font>-**Pandas数据结构**  \n",
    "\n",
    "请在下面<font color=Tomato>**每一行注释**</font>下添加对应的代码"
   ]
  },
  {
   "cell_type": "markdown",
   "id": "22932b96",
   "metadata": {},
   "source": [
    "**Pandas**有三种数据结构：系列(Series)、数据帧(DataFrame)和面板(Panel)。 \n",
    "数据帧是Pandas使用最多的数据结构，其特点是异构数据、大小可变、数据可变。\n",
    "数据以行和列表示，每行是一条记录（对象），每列表示一个属性，属性数据具有数据类型。\n",
    "Pandas数据帧可以使用各种输入创建，如列表、字典、系列、NumPy的ndarrays、Series或另一个数据帧等。"
   ]
  },
  {
   "cell_type": "code",
   "execution_count": null,
   "id": "ccf4de1c",
   "metadata": {},
   "outputs": [],
   "source": [
    "#导入pandas库，并取一个别名pd\n"
   ]
  },
  {
   "cell_type": "markdown",
   "id": "6523262e",
   "metadata": {},
   "source": [
    "<font color=Tomato>1.Pandas数据创建</font>"
   ]
  },
  {
   "cell_type": "code",
   "execution_count": 46,
   "id": "9ecc8ff5",
   "metadata": {},
   "outputs": [
    {
     "data": {
      "text/plain": [
       "'\\n格式为 数据帧名 = pd.DataFrame() \\n'"
      ]
     },
     "execution_count": 46,
     "metadata": {},
     "output_type": "execute_result"
    }
   ],
   "source": [
    "#1.0 pandas空数组创建 \n",
    "'''\n",
    "格式为 数据帧名 = pd.DataFrame() \n",
    "'''\n",
    "#创建一个空的pandas数组\n",
    "\n",
    "#打印输出，type函数查看类型\n"
   ]
  },
  {
   "cell_type": "markdown",
   "id": "b0f493c0",
   "metadata": {},
   "source": [
    "结合numpy库，创建pandas非空数组。*np.arange(start,end,step)* 根据start与stop指定的范围以及step设定的步长，生成一个ndarray对象。"
   ]
  },
  {
   "cell_type": "code",
   "execution_count": 45,
   "id": "2ba1f4d2",
   "metadata": {},
   "outputs": [],
   "source": [
    "#1.1 结合Numpy库生成Pandas非空数组\n",
    "\n"
   ]
  },
  {
   "cell_type": "markdown",
   "id": "1da4c8b1",
   "metadata": {},
   "source": [
    "结合字典结构，创建Pandas DataFrame。基本格式为：  \n",
    "字典名 = {第一列名字:[第一列元素形成的列表],第二列名字:[第二列元素形成的列表],.....}  \n",
    "pandas数据帧名 = pd.DataFrame(字典名)    <font color=lightblue>PS：也可直接在pd.DataFrame()里编写字典结构。</font>"
   ]
  },
  {
   "cell_type": "code",
   "execution_count": 47,
   "id": "df598cbd",
   "metadata": {},
   "outputs": [],
   "source": [
    "#1.2 通过字典结构创建一个Pandas数据帧\n",
    "\n"
   ]
  },
  {
   "cell_type": "markdown",
   "id": "e3a7f62a",
   "metadata": {},
   "source": [
    "Pandas数据结构基本属性"
   ]
  },
  {
   "cell_type": "code",
   "execution_count": 41,
   "id": "e2c0c649",
   "metadata": {},
   "outputs": [],
   "source": [
    "#1.3\n",
    "# pandas数据结构名.ndim 输出数据轴序列\n",
    "\n",
    "# pandas数据结构名.shape 维度 输出形状（维度）\n",
    "\n",
    "# pandas数据结构名.size 输出元素总个数\n",
    "\n",
    "# pandas数据结构名.dtype 输出数据类型\n",
    "\n",
    "# pandas数据结构名.T 输出数组的行列转置\n",
    "\n",
    "# pandas数据结构名.size 输出数组元素数量\n",
    "\n",
    "# pandas数据结构名.values 输出实际数据的numpy表示\n",
    "\n",
    "# pandas数据结构名.head(x) 输出前x行数据\n",
    "\n",
    "# pandas数据结构名.tail(x) 输出后x行数据\n",
    "\n"
   ]
  },
  {
   "cell_type": "markdown",
   "id": "382110f9",
   "metadata": {},
   "source": [
    "<font color=Tomato>**第二部分**</font>-**Pandas数据分析**  \n",
    "\n",
    "请在下面<font color=Tomato>**每一行注释**</font>下添加对应的代码"
   ]
  },
  {
   "cell_type": "markdown",
   "id": "82c7e2cb",
   "metadata": {},
   "source": [
    "<font color=Tomato>2.Pandas操作外部数据</font>"
   ]
  },
  {
   "cell_type": "markdown",
   "id": "6fdc990c",
   "metadata": {},
   "source": [
    "Pandas支持读取外部各类文件如Excel、CSV、Json等等。  \n",
    "基本格式为 Pd.read_csv(文件路径,header =) ， 可以在pd.read_csv()中继续添加参数：  \n",
    "sep = ',' 分隔符;   \n",
    "index_col='Name' 将Name列作为索引;  \n",
    "skiprows=[x] 不取下标为x的行;   \n",
    "nrows=2,usecols=['Name','No'] 取两行、取两列."
   ]
  },
  {
   "cell_type": "code",
   "execution_count": null,
   "id": "1fd63bf4",
   "metadata": {},
   "outputs": [],
   "source": [
    "#2.1 简单读取外部CSV文件\n"
   ]
  },
  {
   "cell_type": "code",
   "execution_count": null,
   "id": "d270cb7d",
   "metadata": {},
   "outputs": [],
   "source": [
    "#2.2 条件读取外部CSV文件\n"
   ]
  },
  {
   "cell_type": "markdown",
   "id": "aea2b8e9",
   "metadata": {},
   "source": [
    "各列元素数量为：df.count()\n",
    "各列元素平均值为：df.mean()  \n",
    "各列元素总和为：df.sum()  \n",
    "各列元素中位数为：df.median()  "
   ]
  },
  {
   "cell_type": "code",
   "execution_count": null,
   "id": "bc0c9316",
   "metadata": {},
   "outputs": [],
   "source": [
    "#2.3 数据描述性统计\n",
    "d = {'a':[1,2,3,4],  \n",
    "     'b':[5,6,7,8],\n",
    "     'c':[9,10,11,12]}\n",
    "#将d转化为pandas数组 格式为：pandas数据帧名 = pd.DataFrame(字典名)\n",
    "\n",
    "#各列元素最小为：\n",
    "\n",
    "#各列元素最大为：\n",
    "\n",
    "#各列元素绝对值为：\n",
    "\n",
    "#数组元素累积乘积：\n",
    "\n",
    "#全描述性统计信息：df.describe()\n",
    "\n",
    "'''\n",
    "求单列元素 则在()中加入axis=1 表示求第一列元素的平均值/总和/中位数....\n",
    "'''"
   ]
  },
  {
   "cell_type": "markdown",
   "id": "0c417c3e",
   "metadata": {},
   "source": [
    "<font color=Tomato>**第三部分**</font>-**实验操作**  \n",
    "\n",
    "请在根据给出数据<font color=Tomato>**编写代码**</font>进行分析，给出<font color=Tomato>**下面问题**</font>的答案。"
   ]
  },
  {
   "cell_type": "markdown",
   "id": "6faaceeb",
   "metadata": {},
   "source": [
    "Q1: 一本文理科与二本文理科最高分数线是多少？最低分数线是多少？相差多大？\n",
    "\n",
    "\n",
    "Q2:  2021和2020比，高考线分别变化了多少分，高考越来越难吗？\n",
    "\n",
    "\n",
    "Q3: 预测今年每科分数线（可使用近12年的每科平均值）\n"
   ]
  },
  {
   "cell_type": "code",
   "execution_count": null,
   "id": "1d742c80",
   "metadata": {},
   "outputs": [],
   "source": [
    "#代码部分\n",
    "\n",
    "\n",
    "\n",
    "\n",
    "\n",
    "\n"
   ]
  }
 ],
 "metadata": {
  "kernelspec": {
   "display_name": "Python 3 (ipykernel)",
   "language": "python",
   "name": "python3"
  },
  "language_info": {
   "codemirror_mode": {
    "name": "ipython",
    "version": 3
   },
   "file_extension": ".py",
   "mimetype": "text/x-python",
   "name": "python",
   "nbconvert_exporter": "python",
   "pygments_lexer": "ipython3",
   "version": "3.9.7"
  }
 },
 "nbformat": 4,
 "nbformat_minor": 5
}
