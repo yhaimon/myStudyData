{
 "cells": [
  {
   "cell_type": "code",
   "execution_count": 5,
   "id": "fcc8ae44",
   "metadata": {},
   "outputs": [
    {
     "ename": "IndentationError",
     "evalue": "unexpected indent (3613532440.py, line 29)",
     "output_type": "error",
     "traceback": [
      "\u001b[1;36m  Cell \u001b[1;32mIn[5], line 29\u001b[1;36m\u001b[0m\n\u001b[1;33m    def ge_html(self,url):\u001b[0m\n\u001b[1;37m    ^\u001b[0m\n\u001b[1;31mIndentationError\u001b[0m\u001b[1;31m:\u001b[0m unexpected indent\n"
     ]
    }
   ],
   "source": [
    "import csv\n",
    "import requests\n",
    "import re\n",
    "import time\n",
    "import random\n",
    "\n",
    "\n",
    "class MaoyanSpider:\n",
    "    def __init__(self):\n",
    "        #self.url=\"http://www.maoyan.com/board/4?offset={}\"\n",
    "        self.url = \"https://maoyan.com/board/4?offset={}\"\n",
    "        self.headers = {\n",
    "            \"User-Agent\": \"Mozilla/5.0 (Windows NT 10.0; Win64; x64) AppleWebKit/537.36 (KHTML, like Gecko) Chrome/91.0.4472.114 Safari/537.36\" ,\n",
    "            \"Referer\": 'https://www.maoyan.com/board?timeStamp=1638320019594&channelId=40011&index=5&signKey=40e893653e96d541fd7487b8ce4dde1c&sVersion=1&webdriver=false',\n",
    "            \"Cookie\": '__mta=50058905.1632753308057.1634806990402.1634807005626.51; __mta=50058905.1632753308057.1634807005626.1638320058783.52; _lxsdk_cuid=17c27ae5134c8-05925449de1036-6373267-144000-17c27ae5134c8; __mta=50058905.1632753308057.1634694784570.1634806941750.45; uuid_n_v=v1; uuid=A53420C0468E11EC9B33ED9266FEEDA856C75BE5F31743589C95395569A69D89; _lxsdk=A53420C0468E11EC9B33ED9266FEEDA856C75BE5F31743589C95395569A69D89; _csrf=088205fef83421e494eb00ae99eab18da59c566786c7d9766b878da81bcaf335; Hm_lvt_703e94591e87be68cc8da0da7cbd0be2=1637033904,1637213577,1637743259,1638320017; _lx_utm=utm_source%3DBaidu%26utm_medium%3Dorganic; __mta=50058905.1632753308057.1634807005626.1638320020464.52; Hm_lpvt_703e94591e87be68cc8da0da7cbd0be2=1638320059; _lxsdk_s=17d737b8ff5-a5a-f8e-046%7C%7C10'\n",
    "        }\n",
    "        #添加一个空列表\n",
    "        self.film_list = []\n",
    "        #定义写入变量\n",
    "        self.f = open('maoyan.csv','w',newline='',encoding='utf-8')\n",
    "        self.writer  = csv.writer(self.f)\n",
    "\n",
    "#.(\\n) *(匹配0次或多次) +（匹配1次或多次）\n",
    "'''\n",
    ".：匹配除了换行符之外的任何单个字符。\n",
    "*：表示前面的字符（或组）可以出现0次或多次。\n",
    "?：使*变为非贪婪模式。非贪婪模式意味着匹配尽可能少的字符。\n",
    "'''\n",
    "    def ge_html(self,url):\n",
    "    #获取相应文本内容页，获取的html网页文本\n",
    "        html  = requests.get(url = url, headers = self.headers.text)\n",
    "        parse_html(html)\n",
    "    \n",
    "    def parse_html(self,html):\n",
    "        #定义正则表达式解码\n",
    "        reges = '<div class=\"movie-item-info\">.*?title=\"(.*?)\"' \\\n",
    "                '.*?<p class=\"star\">(.*?)</p>.*?<p class=\"releasetime\">(.*?)</p>'\n",
    "        #获取html对应的文本\n",
    "        r_list = pattern.findall(html)\n",
    "        self.save_html(r_list)\n",
    "    #r_list [1] 电影  [2]  [3]\n",
    "    def save_html(self, r_list):\n",
    "        #循环整理列表元素\n",
    "        for r in r_list:\n",
    "            film_tu = (\n",
    "            r[0].strip(),\n",
    "            r[1].strip(),\n",
    "            r[2].strip()\n",
    "            )\n",
    "            self.film_list.append(film_tu)\n",
    "    def run(self):\n",
    "        for offset in range(10, 31, 10):\n",
    "            url = self.url.format(offset)\n",
    "            self.get_html(url)\n",
    "            #进行休眠设置\n",
    "            time.sleep(random.randint(1, 8))\n",
    "            self.writer.writerows(self.film_list)\n",
    "            self.f.close()\n",
    "            print('爬取完成')\n",
    "            \n",
    "            \n",
    "if __name__ == '__main__':\n",
    "    spider = MaoyanSpoder()\n",
    "    spider.run()\n"
   ]
  },
  {
   "cell_type": "code",
   "execution_count": 6,
   "id": "256ff3be",
   "metadata": {},
   "outputs": [
    {
     "name": "stdout",
     "output_type": "stream",
     "text": [
      "爬取完成\n"
     ]
    }
   ],
   "source": [
    "import requests\n",
    "import re\n",
    "import csv\n",
    "import time\n",
    "import random\n",
    "\n",
    "class MaoyanSpider:\n",
    "    def __init__(self):\n",
    "        self.url = \"https://maoyan.com/board/4?offset={}\"\n",
    "        self.headers = {\n",
    "            \"User-Agent\": \"Mozilla/5.0 (Windows NT 10.0; Win64; x64) AppleWebKit/537.36 (KHTML, like Gecko) Chrome/91.0.4472.114 Safari/537.36\" ,\n",
    "            \"Referer\": 'https://www.maoyan.com/board?timeStamp=1638320019594&channelId=40011&index=5&signKey=40e893653e96d541fd7487b8ce4dde1c&sVersion=1&webdriver=false',        }\n",
    "        \n",
    "        self.film_list = []\n",
    "        # 初始化写入变量\n",
    "        self.f = open('maoyan.csv','w',newline='',encoding='utf-8')\n",
    "        self.writer  = csv.writer(self.f)\n",
    "        \n",
    "    def get_html(self,url):\n",
    "        # 获取响应内容\n",
    "        html = requests.get(url = url,headers = self.headers).text\n",
    "        self.parse_html(html)\n",
    "    \n",
    "    def parse_html(self,html):\n",
    "        # 正则表达式编译对象\n",
    "        regex = '<div class=\"movie-item-info\">.*?title=\"(.*?)\".*?<p class=\"star\">(.*?)</p>.*?<p class=\"releasetime\">(.*?)</p>'\n",
    "        pattern = re.compile(regex,re.S)\n",
    "        # 添加到列表r_list中 (.*?)\n",
    "        r_list = pattern.findall(html)\n",
    "        # r_list = [('我不是药神','主演'，'2018')]\n",
    "        # 保存写入csv\n",
    "        self.save_html(r_list)\n",
    "    \n",
    "    def save_html(self,r_list):\n",
    "        \n",
    "        for r in r_list:\n",
    "            film_tu = (\n",
    "                r[0].strip(),\n",
    "                r[1].strip(),\n",
    "                r[2].strip()\n",
    "            )\n",
    "            self.film_list.append(film_tu)\n",
    "        \n",
    "    def run(self):\n",
    "        for offset in range(10,21):\n",
    "            # URL 拼接\n",
    "            url = self.url.format(offset)\n",
    "            self.get_html(url)\n",
    "            time.sleep(random.randint(1,5))\n",
    "        # 写入列表数据 f - self.writer = csv.writer\n",
    "        self.writer.writerows(self.film_list)\n",
    "        self.f.close()\n",
    "        print('爬取完成')\n",
    "\n",
    "if __name__ == '__main__':\n",
    "    spider = MaoyanSpider()\n",
    "    spider.run()"
   ]
  },
  {
   "cell_type": "code",
   "execution_count": 8,
   "id": "28b2f029",
   "metadata": {},
   "outputs": [
    {
     "name": "stdout",
     "output_type": "stream",
     "text": [
      "我是大神\n"
     ]
    }
   ],
   "source": [
    "print(\"我是大神\")"
   ]
  },
  {
   "cell_type": "code",
   "execution_count": null,
   "id": "c32d334a",
   "metadata": {},
   "outputs": [],
   "source": []
  }
 ],
 "metadata": {
  "kernelspec": {
   "display_name": "Python 3 (ipykernel)",
   "language": "python",
   "name": "python3"
  },
  "language_info": {
   "codemirror_mode": {
    "name": "ipython",
    "version": 3
   },
   "file_extension": ".py",
   "mimetype": "text/x-python",
   "name": "python",
   "nbconvert_exporter": "python",
   "pygments_lexer": "ipython3",
   "version": "3.11.3"
  }
 },
 "nbformat": 4,
 "nbformat_minor": 5
}
