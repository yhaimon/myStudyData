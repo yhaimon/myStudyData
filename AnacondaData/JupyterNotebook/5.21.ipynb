{
 "cells": [
  {
   "cell_type": "code",
   "execution_count": 14,
   "id": "e0c3e80f",
   "metadata": {},
   "outputs": [],
   "source": [
    "# 导包\n",
    "import matplotlib.pyplot as plt\n",
    "import seaborn as sns\n",
    "import pandas as pd\n",
    "import numpy as np\n",
    "from pylab import mpl\n",
    "from pyecharts import options as opts\n",
    "from pyecharts.charts import Bar,Line,Pie,Tab\n",
    "from pyecharts.globals import ThemeType\n",
    "\n",
    "# 设置显示中文字体\n",
    "mpl.rcParams[\"font.sans-serif\"] = [\"SimHei\"]\n",
    "# 设置正常显示符号\n",
    "mpl.rcParams[\"axes.unicode_minus\"] = False"
   ]
  },
  {
   "cell_type": "code",
   "execution_count": 16,
   "id": "447e6424",
   "metadata": {},
   "outputs": [
    {
     "data": {
      "text/plain": [
       "<bound method NDFrame.head of       年份      中国      美国     日本     印度     德国     英国     法国    意大利    俄罗斯  \\\n",
       "0   1960     597    5433    443    370   2158    732    622    404   5547   \n",
       "1   1961     501    5633    535    392   2158    777    675    448   5547   \n",
       "2   1962     472    6051    607    422   2158    812    756    504   5547   \n",
       "3   1963     507    6386    695    484   2158    866    848    577   5547   \n",
       "4   1964     597    6858    817    565   2158    944    940    632   5547   \n",
       "..   ...     ...     ...    ...    ...    ...    ...    ...    ...    ...   \n",
       "59  2019  142799  214332  51488  28705  38611  28308  27155  20049  16874   \n",
       "60  2020  147227  209366  50578  26230  38061  27077  26030  18864  14835   \n",
       "61  2021  177272  229935  49347  30799  42189  31886  29374  18864  17755   \n",
       "62  2022  179632  254397  42564  34166  40824  30891  27791  20497  22404   \n",
       "63  2023  178890  273564  42474  39320  44560  33330  30500  21860  18600   \n",
       "\n",
       "      加拿大   澳大利亚     巴西     韩国    瑞典    西班牙  \n",
       "0     405    186    152     40   158    121  \n",
       "1     409    197    152     24   172    138  \n",
       "2     422    199    199     28   187    161  \n",
       "3     450    215    230     40   202    191  \n",
       "4     494    238    212     35   225    213  \n",
       "..    ...    ...    ...    ...   ...    ...  \n",
       "59  17416  13966  18778  16467  5313  13935  \n",
       "60  16434  13309  14447  16305  5376  12812  \n",
       "61  19913  13309  14447  16305  5376  12812  \n",
       "62  21615  16930  19201  16739  5376  12812  \n",
       "63  21180  16800  21270  17000  5376  12812  \n",
       "\n",
       "[64 rows x 16 columns]>"
      ]
     },
     "execution_count": 16,
     "metadata": {},
     "output_type": "execute_result"
    }
   ],
   "source": [
    "#1.引入tsv文件\n",
    "df = pd.read_csv(r'5月21日\\2024世界GDP数据分析.csv', encoding='GBK')\n",
    "df.head"
   ]
  },
  {
   "cell_type": "code",
   "execution_count": 11,
   "id": "34f01f72",
   "metadata": {},
   "outputs": [
    {
     "ename": "AttributeError",
     "evalue": "'DataFrame' object has no attribute 'col'",
     "output_type": "error",
     "traceback": [
      "\u001b[1;31m---------------------------------------------------------------------------\u001b[0m",
      "\u001b[1;31mAttributeError\u001b[0m                            Traceback (most recent call last)",
      "Cell \u001b[1;32mIn[11], line 4\u001b[0m\n\u001b[0;32m      1\u001b[0m df_world_t \u001b[38;5;241m=\u001b[39m pd\u001b[38;5;241m.\u001b[39mDataFrame(\n\u001b[0;32m      2\u001b[0m     data \u001b[38;5;241m=\u001b[39m df\u001b[38;5;241m.\u001b[39mvalues\u001b[38;5;241m.\u001b[39mT,\n\u001b[0;32m      3\u001b[0m     \u001b[38;5;66;03m#行列互换\u001b[39;00m\n\u001b[1;32m----> 4\u001b[0m     index \u001b[38;5;241m=\u001b[39m df\u001b[38;5;241m.\u001b[39mcol,\n\u001b[0;32m      5\u001b[0m     columns \u001b[38;5;241m=\u001b[39m df\u001b[38;5;241m.\u001b[39mindex\n\u001b[0;32m      6\u001b[0m )\n\u001b[0;32m      7\u001b[0m df_world_t\u001b[38;5;241m.\u001b[39mhead()\n",
      "File \u001b[1;32mD:\\Program\\anaconda3\\Lib\\site-packages\\pandas\\core\\generic.py:5902\u001b[0m, in \u001b[0;36mNDFrame.__getattr__\u001b[1;34m(self, name)\u001b[0m\n\u001b[0;32m   5895\u001b[0m \u001b[38;5;28;01mif\u001b[39;00m (\n\u001b[0;32m   5896\u001b[0m     name \u001b[38;5;129;01mnot\u001b[39;00m \u001b[38;5;129;01min\u001b[39;00m \u001b[38;5;28mself\u001b[39m\u001b[38;5;241m.\u001b[39m_internal_names_set\n\u001b[0;32m   5897\u001b[0m     \u001b[38;5;129;01mand\u001b[39;00m name \u001b[38;5;129;01mnot\u001b[39;00m \u001b[38;5;129;01min\u001b[39;00m \u001b[38;5;28mself\u001b[39m\u001b[38;5;241m.\u001b[39m_metadata\n\u001b[0;32m   5898\u001b[0m     \u001b[38;5;129;01mand\u001b[39;00m name \u001b[38;5;129;01mnot\u001b[39;00m \u001b[38;5;129;01min\u001b[39;00m \u001b[38;5;28mself\u001b[39m\u001b[38;5;241m.\u001b[39m_accessors\n\u001b[0;32m   5899\u001b[0m     \u001b[38;5;129;01mand\u001b[39;00m \u001b[38;5;28mself\u001b[39m\u001b[38;5;241m.\u001b[39m_info_axis\u001b[38;5;241m.\u001b[39m_can_hold_identifiers_and_holds_name(name)\n\u001b[0;32m   5900\u001b[0m ):\n\u001b[0;32m   5901\u001b[0m     \u001b[38;5;28;01mreturn\u001b[39;00m \u001b[38;5;28mself\u001b[39m[name]\n\u001b[1;32m-> 5902\u001b[0m \u001b[38;5;28;01mreturn\u001b[39;00m \u001b[38;5;28mobject\u001b[39m\u001b[38;5;241m.\u001b[39m\u001b[38;5;21m__getattribute__\u001b[39m(\u001b[38;5;28mself\u001b[39m, name)\n",
      "\u001b[1;31mAttributeError\u001b[0m: 'DataFrame' object has no attribute 'col'"
     ]
    }
   ],
   "source": [
    "df_world_t = pd.DataFrame(\n",
    "    data = df.values.T,\n",
    "    #行列互换\n",
    "    index = df.col,\n",
    "    columns = df.index\n",
    ")\n",
    "df_world_t.head()"
   ]
  },
  {
   "cell_type": "code",
   "execution_count": 12,
   "id": "35e70825",
   "metadata": {},
   "outputs": [
    {
     "ename": "NameError",
     "evalue": "name 'Timeline' is not defined",
     "output_type": "error",
     "traceback": [
      "\u001b[1;31m---------------------------------------------------------------------------\u001b[0m",
      "\u001b[1;31mNameError\u001b[0m                                 Traceback (most recent call last)",
      "Cell \u001b[1;32mIn[12], line 1\u001b[0m\n\u001b[1;32m----> 1\u001b[0m tl_bar \u001b[38;5;241m=\u001b[39m Timeline(init_opts \u001b[38;5;241m=\u001b[39m opts\u001b[38;5;241m.\u001b[39mInintOpts(width\u001b[38;5;241m=\u001b[39m\u001b[38;5;124m'\u001b[39m\u001b[38;5;124m900px\u001b[39m\u001b[38;5;124m'\u001b[39m,height\u001b[38;5;241m=\u001b[39m\u001b[38;5;124m'\u001b[39m\u001b[38;5;124m500px\u001b[39m\u001b[38;5;124m'\u001b[39m))\n",
      "\u001b[1;31mNameError\u001b[0m: name 'Timeline' is not defined"
     ]
    }
   ],
   "source": [
    "tl_bar = Timeline(init_opts = opts.InintOpts(width='900px',height='500px'))"
   ]
  },
  {
   "cell_type": "code",
   "execution_count": null,
   "id": "cbf07935",
   "metadata": {},
   "outputs": [],
   "source": [
    "#拿数据\n",
    "df_world_t[1960]"
   ]
  },
  {
   "cell_type": "code",
   "execution_count": null,
   "id": "f3a617c5",
   "metadata": {},
   "outputs": [],
   "source": [
    "for year in range(1960,2023):\n",
    "    #1.构成每年的数据集（二维表，在排序）\n",
    "    df_year_bar = pd.DataFrame(df_world_t[year]).sort_values(by = year)\n",
    "    #2.定义XY数据\n",
    "    x_list = df_year_bar.index.to_list()\n",
    "    y_list = df_year_bar\n",
    "    [year].to_list()\n",
    "   # 3.绘制Bar图\n",
    "    bar = (Bar()\n",
    "          .add_xaxis(x_list),\n",
    "           .add_yaxis(series_name=\"\",\n",
    "                     y_axis = y_list,\n",
    "                     cateegory_gap = '50%')\n",
    "           .reversal_axis()\n",
    "           .set_global_opts(title_opts=opts.TitleOpts('{year}年各国GDP情况')\n",
    "          )\n",
    "        tl_bar.add(chart = bar, time_point='{}年'.format(year)\n",
    "        tl_bar.add_schema = (play_interval=300,is_auto_play = False)\n",
    "                  )"
   ]
  },
  {
   "cell_type": "code",
   "execution_count": null,
   "id": "4d63152d",
   "metadata": {},
   "outputs": [],
   "source": [
    "tl_bar.render_notebook()"
   ]
  },
  {
   "cell_type": "code",
   "execution_count": 13,
   "id": "23fe6c6d",
   "metadata": {},
   "outputs": [],
   "source": [
    "data = [('China',10000),('Russia',20000),('Brazil',5000),(\"the US\",40000)]"
   ]
  },
  {
   "cell_type": "code",
   "execution_count": null,
   "id": "0f37ea79",
   "metadata": {},
   "outputs": [],
   "source": [
    "#世界地图\n",
    "world_map\n"
   ]
  },
  {
   "cell_type": "code",
   "execution_count": null,
   "id": "6d180dcd",
   "metadata": {},
   "outputs": [],
   "source": [
    "#打包\n",
    "#world_map =Map() data pair[('男',100)(\"女\",300)]"
   ]
  }
 ],
 "metadata": {
  "kernelspec": {
   "display_name": "Python 3 (ipykernel)",
   "language": "python",
   "name": "python3"
  },
  "language_info": {
   "codemirror_mode": {
    "name": "ipython",
    "version": 3
   },
   "file_extension": ".py",
   "mimetype": "text/x-python",
   "name": "python",
   "nbconvert_exporter": "python",
   "pygments_lexer": "ipython3",
   "version": "3.11.3"
  }
 },
 "nbformat": 4,
 "nbformat_minor": 5
}
