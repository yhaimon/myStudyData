{
 "cells": [
  {
   "cell_type": "markdown",
   "metadata": {},
   "source": [
    "## 实验二 "
   ]
  },
  {
   "cell_type": "markdown",
   "metadata": {},
   "source": [
    "<font color=Tomato>**NumPy**</font>是用于科学计算的一个开源的Python程序库，代表 “Numeric Python”。\n",
    "它为Python提供了高性能数组与矩阵运算处理能力，为数据分析提供了数据处理的基础功能。\n"
   ]
  },
  {
   "cell_type": "markdown",
   "metadata": {},
   "source": [
    "<font color=Tomato>**第一部分**</font>-Numpy科学计算  \n",
    "\n",
    "请在下面<font color=Tomato>**每一行注释**</font>下添加对应的代码"
   ]
  },
  {
   "cell_type": "code",
   "execution_count": 2,
   "metadata": {},
   "outputs": [],
   "source": [
    "#导入numpy库，并取一个别名np\n",
    "import numpy as np"
   ]
  },
  {
   "cell_type": "markdown",
   "metadata": {},
   "source": [
    "<font color=Tomato>1. 普通数组创建</font>  \n",
    "\n",
    "函数array可以将Python的列表、元组、数组或其他序列类型作为参数创建ndarray数组。\n",
    "\n",
    "格式为 *数组名 = np.array(x)*，x为其他序列类型。\n"
   ]
  },
  {
   "cell_type": "code",
   "execution_count": 2,
   "metadata": {},
   "outputs": [
    {
     "name": "stdout",
     "output_type": "stream",
     "text": [
      "[1 2 3 4 5]\n",
      "[[1 3 5]\n",
      " [2 4 6]]\n",
      "[1 2 3]\n",
      "{'yang': 12, 'ss': 45}\n",
      "abcdef\n"
     ]
    }
   ],
   "source": [
    "#1.1 生成一维列表作为array参数\n",
    "import numpy as np\n",
    "a1 = np.array([1, 2, 3, 4, 5])\n",
    "#1.2 打印输出，type函数查看类型\n",
    "print(a1)\n",
    "type(a1)\n",
    "#1.3 生成二维列表作为array参数\n",
    "a2 = np.array([[1,3,5],[2,4,6]])\n",
    "print(a2)\n",
    "#1.4 生成元组作为array参数\n",
    "a3 = np.array((1, 2, 3))\n",
    "print(a3)\n",
    "#1.5 生成字典作为array参数\n",
    "a4 = np.array({'yang':12, 'ss':45})\n",
    "print(a4)\n",
    "#1.6 生成字符串作为array参数\n",
    "a5 = np.array('abcdef')\n",
    "print(a5)"
   ]
  },
  {
   "cell_type": "markdown",
   "metadata": {},
   "source": [
    "<font color=Tomato>2. 特殊数组创建  </font>    \n",
    "\n",
    "*np.empty((x1,x2))* 创建一个指定维度、数据类型的未初始化的数组；  \n",
    "\n",
    "*np.zeros((x1,x2))* 创建x1行x2列的numpy数组，元素均为0；  \n",
    "\n",
    "*np.ones((x1,x2))* 创建x1行x2列的numpy数组，元素均为1；  \n",
    "    \n",
    "*np.eye(x1)* 创建x1行x1列的numpy数组，对角线元素均为1，其余为0。"
   ]
  },
  {
   "cell_type": "code",
   "execution_count": 3,
   "metadata": {},
   "outputs": [
    {
     "name": "stdout",
     "output_type": "stream",
     "text": [
      "[[0. 0. 0.]\n",
      " [0. 0. 0.]]\n",
      "[[0. 0. 0. 0. 0.]\n",
      " [0. 0. 0. 0. 0.]\n",
      " [0. 0. 0. 0. 0.]]\n",
      "[[1. 1.]\n",
      " [1. 1.]\n",
      " [1. 1.]\n",
      " [1. 1.]]\n",
      "[[1. 0. 0.]\n",
      " [0. 1. 0.]\n",
      " [0. 0. 1.]]\n"
     ]
    }
   ],
   "source": [
    "#2.1 创建2行3列的numpy数组，元素均为0\n",
    "b=np.empty((2,3))\n",
    "print(b)\n",
    "\n",
    "#2.2 创建3行5列的numpy数组，元素均为0\n",
    "b1=np.zeros((3,5))\n",
    "print(b1)\n",
    "\n",
    "#2.3 创建4行2列的numpy数组，元素均为1\n",
    "b2=np.ones((4,2))\n",
    "print(b2)\n",
    "\n",
    "#2.4 创建3行3列的numpy数组，对角线元素均为1，其余为0\n",
    "b3=np.eye(3)\n",
    "print(b3)\n"
   ]
  },
  {
   "cell_type": "markdown",
   "metadata": {},
   "source": [
    "<font color=Tomato>3. 随机数组创建  </font>  \n",
    "\n",
    "*np.random.rand(x1, x2)*, 产生[0, 1)范围的浮点随机数  \n",
    "\n",
    "*np.random.randint(x1, x2,size=(x3, x4))*, 产生x1至x2范围的随机整数，生成x3行x4列。 "
   ]
  },
  {
   "cell_type": "code",
   "execution_count": 4,
   "metadata": {},
   "outputs": [
    {
     "name": "stdout",
     "output_type": "stream",
     "text": [
      "[[0.40897046 0.61433076]]\n",
      "[[5 8 5 0]\n",
      " [0 1 7 6]\n",
      " [2 4 5 2]]\n"
     ]
    }
   ],
   "source": [
    "#3.1 生成1行2列数组，值服从[0, 1)之间的均匀分布。\n",
    "c=np.random.rand(1,2)\n",
    "print(c)\n",
    "#3.2 生成3行4列数组，值范围在0到9之间。\n",
    "import numpy as np\n",
    "np.random.seed(1)\n",
    "a = np.random.randint(0,9,size=(3,4))\n",
    "print(a)"
   ]
  },
  {
   "cell_type": "markdown",
   "metadata": {},
   "source": [
    "<font color=Tomato>4. 数值范围创建 </font>     \n",
    "\n",
    "*np.arange([start, ]stop, [step, ]dtype=None)* \n",
    "    \n",
    "start:起点值；可忽略不写，默认从0开始；stop:终点值；生成的元素不包括结束值；step:步长；可忽略不写，默认步长为1；dtype:默认为None，设置显示元素的数据类型。 \n",
    "    \n",
    " *np.linspace(start,end,num)*  \n",
    " \n",
    " 通过定义均匀间隔创建数值序列。其实，需要指定间隔起始点、终止端，以及指定分隔值总数（包括起始点和终止点）；最终函数返回间隔类均匀分布的数值序列。\n"
   ]
  },
  {
   "cell_type": "code",
   "execution_count": 5,
   "metadata": {},
   "outputs": [
    {
     "name": "stdout",
     "output_type": "stream",
     "text": [
      "[3.  3.5 4.  4.5 5.  5.5 6.  6.5]\n",
      "[  5.          15.55555556  26.11111111  36.66666667  47.22222222\n",
      "  57.77777778  68.33333333  78.88888889  89.44444444 100.        ]\n"
     ]
    }
   ],
   "source": [
    "#4.1 生成终点值为7，起点值为3，步长为0.5(小数)的数组。\n",
    "import numpy as np\n",
    "d=np.arange(3,7,0.5,dtype=None)\n",
    "print(d)\n",
    "#4.2 生成起点值为5，终点值为100，分隔值为10的数组。\n",
    "d1=np.linspace(5,100,10)\n",
    "print(d1)"
   ]
  },
  {
   "cell_type": "markdown",
   "metadata": {},
   "source": [
    "<font color=Tomato>5. 列表转数组，数组转列表</font>  \n",
    "\n",
    "列表转数组 *np.asarray(list)*  \n",
    "\n",
    "数组转列表 *np.ndarray.tolist(array)*"
   ]
  },
  {
   "cell_type": "code",
   "execution_count": 6,
   "metadata": {},
   "outputs": [
    {
     "name": "stdout",
     "output_type": "stream",
     "text": [
      "[1 2 3 4 5]\n",
      "[1, 2, 3, 4, 5]\n"
     ]
    }
   ],
   "source": [
    "#5.1 将[1,2,3,4,5]转换为numpy数组\n",
    "e=np.asarray([1,2,3,4,5])\n",
    "print(e)\n",
    "#5.2 将numpy数组转换回列表[1,2,3,4,5]\n",
    "e1=np.array([1,2,3,4,5])\n",
    "e2=e1.tolist()\n",
    "print(e2)"
   ]
  },
  {
   "cell_type": "markdown",
   "metadata": {},
   "source": [
    "<font color=Tomato>6. 数组对象属性</font>  \n"
   ]
  },
  {
   "cell_type": "code",
   "execution_count": 7,
   "metadata": {},
   "outputs": [
    {
     "name": "stdout",
     "output_type": "stream",
     "text": [
      "2\n",
      "(2, 3)\n",
      "6\n",
      "int32\n",
      "[[1 4]\n",
      " [2 5]\n",
      " [3 6]]\n",
      "[[1. 2. 3.]\n",
      " [4. 5. 6.]]\n"
     ]
    },
    {
     "data": {
      "text/plain": [
       "dtype('float64')"
      ]
     },
     "execution_count": 7,
     "metadata": {},
     "output_type": "execute_result"
    }
   ],
   "source": [
    "import numpy as np\n",
    "#根据下面数组完成练习\n",
    "P6 = np.array([[1,2,3],[4,5,6]]) \n",
    "#6.1 np.ndim 数据轴个数\n",
    "f=np.ndim(P6)\n",
    "print(f)\n",
    "#6.2 np.shape 维度\n",
    "f1=np.shape(P6)\n",
    "print(f1)\n",
    "#6.3 np.size 元素总个数\n",
    "f2=np.size(P6)\n",
    "print(f2)\n",
    "#6.4 np.dtype 数据类型\n",
    "f3=P6.dtype\n",
    "print(f3)\n",
    "#6.5 np.T 数组的行列转置\n",
    "f4=P6.T\n",
    "print(f4)\n",
    "#6.6 使用astype()把数组元素转换为浮点型，用dtype查看明确数据类型。\n",
    "f5=P6.astype(float)\n",
    "print(f5)\n",
    "f5.dtype\n"
   ]
  },
  {
   "cell_type": "markdown",
   "metadata": {},
   "source": [
    "<font color=Tomato>**第二部分**</font>-Numpy数组操作  \n",
    " \n",
    "请在下面<font color=Tomato>**每一行注释**</font>下添加对应的代码"
   ]
  },
  {
   "cell_type": "markdown",
   "metadata": {},
   "source": [
    "<font color=Tomato>7. 修改数组形状</font>  \n",
    "\n",
    "*reshape(x1,x2)* ， 不改变数据的条件下,将数组的形状改为x1行x2列。  \n",
    "\n",
    "*数组名.transpose()* ，对换数组的维度，注意该函数不带参数。  \n",
    "\n",
    "*np.swapaxes(numpy数组名,0,1)* ， 将第1轴与第2轴数据交换。"
   ]
  },
  {
   "cell_type": "code",
   "execution_count": 8,
   "metadata": {},
   "outputs": [
    {
     "name": "stdout",
     "output_type": "stream",
     "text": [
      "[[ 0  1  2  3]\n",
      " [ 4  5  6  7]\n",
      " [ 8  9 10 11]]\n"
     ]
    },
    {
     "data": {
      "text/plain": [
       "array([[ 0,  1],\n",
       "       [ 2,  3],\n",
       "       [ 4,  5],\n",
       "       [ 6,  7],\n",
       "       [ 8,  9],\n",
       "       [10, 11]])"
      ]
     },
     "execution_count": 8,
     "metadata": {},
     "output_type": "execute_result"
    }
   ],
   "source": [
    "#7.1 创建包含12个数的一维numpy数组,更改形状为3行4列\n",
    "a = np.arange(12).reshape(3,4)\n",
    "print(a)\n",
    "#再次更改形状为6行2列\n",
    "a.reshape(6,2)\n"
   ]
  },
  {
   "cell_type": "code",
   "execution_count": 9,
   "metadata": {},
   "outputs": [
    {
     "name": "stdout",
     "output_type": "stream",
     "text": [
      "[[0 1 2]\n",
      " [3 4 5]]\n",
      "[[0 3]\n",
      " [1 4]\n",
      " [2 5]]\n"
     ]
    }
   ],
   "source": [
    "#7.2 创建包含6个数的一维numpy数组,更改形状为2行3列\n",
    "b = np.arange(6).reshape(2,3)\n",
    "print(b)\n",
    "#将上一步创建好的数组，行列对换\n",
    "b.T\n",
    "#将第1轴与第2轴数据交换\n",
    "print(np.swapaxes(b,0,1))"
   ]
  },
  {
   "cell_type": "markdown",
   "metadata": {},
   "source": [
    "<font color=Tomato>8. 数组链接&分割数组</font>  \n",
    "\n",
    "*数组名 = np.concatenate((数组1,数组2))* ， 沿指定轴连接相同形状的两个数组；  \n",
    "\n",
    "*数组名 = np.hstack((数组1,数组2))* ，水平堆叠；  \n",
    "\n",
    "*数组名 = np.vstack((数组1,数组2))* ， 竖直堆叠。\n"
   ]
  },
  {
   "cell_type": "code",
   "execution_count": 4,
   "metadata": {},
   "outputs": [
    {
     "name": "stdout",
     "output_type": "stream",
     "text": [
      "a形状： [[1 2]\n",
      " [3 4]]\n",
      "b形状： [[11 12]\n",
      " [13 14]]\n",
      "[[ 1  2]\n",
      " [ 3  4]\n",
      " [11 12]\n",
      " [13 14]]\n",
      "c形状： [[ 1  2]\n",
      " [ 3  4]\n",
      " [11 12]\n",
      " [13 14]]\n",
      "c1形状： [[ 1  2 11 12]\n",
      " [ 3  4 13 14]]\n",
      "c2形状： [[ 1  2]\n",
      " [ 3  4]\n",
      " [11 12]\n",
      " [13 14]]\n"
     ]
    }
   ],
   "source": [
    "a = np.array([[1,2],[3,4]])\n",
    "b = np.array([[11,12],[13,14]])\n",
    "print('a形状：',a)\n",
    "print('b形状：',b)\n",
    "#8.1 连接a,b两个数组\n",
    "c = np.concatenate((a,b))\n",
    "print(c)\n",
    "print('c形状：',c)\n",
    "#8.2 水平堆叠a,b两个数组\n",
    "c1 = np.hstack((a,b))\n",
    "print('c1形状：',c1)\n",
    "#8.3 竖直堆叠a,b两个数组\n",
    "c2 = np.vstack((a,b))\n",
    "print('c2形状：',c2)"
   ]
  },
  {
   "cell_type": "markdown",
   "metadata": {},
   "source": [
    "*np.hsplit(numpy数组,x)* ， 沿x号维度水平分割numpy数组；  \n",
    "\n",
    "*np.vsplit(numpy数组,x)* ， 沿x号维度垂直分割numpy数组。"
   ]
  },
  {
   "cell_type": "code",
   "execution_count": 11,
   "metadata": {},
   "outputs": [
    {
     "name": "stdout",
     "output_type": "stream",
     "text": [
      "[[ 0  1  2  3  4  5]\n",
      " [ 6  7  8  9 10 11]\n",
      " [12 13 14 15 16 17]\n",
      " [18 19 20 21 22 23]]\n"
     ]
    },
    {
     "data": {
      "text/plain": [
       "[array([[ 0,  1,  2,  3,  4,  5],\n",
       "        [ 6,  7,  8,  9, 10, 11]]),\n",
       " array([[12, 13, 14, 15, 16, 17],\n",
       "        [18, 19, 20, 21, 22, 23]])]"
      ]
     },
     "execution_count": 11,
     "metadata": {},
     "output_type": "execute_result"
    }
   ],
   "source": [
    "c = np.arange(24).reshape(4,6)\n",
    "print(c)\n",
    "#8.4 np.hsplit(numpy数组,x) 沿x号维度水平分割numpy数组\n",
    "np.hsplit(c,2)\n",
    "#8.5 np.vsplit(numpy数组,x) 沿x号维度垂直分割numpy数组\n",
    "np.vsplit(c,2)"
   ]
  },
  {
   "cell_type": "markdown",
   "metadata": {},
   "source": [
    "<font color=Tomato>9. 数组元素添加与删除</font>   \n",
    "\n",
    "*数组名.resize(a, new_shape)* a：要被resize的数组 ；new_shape：被resize的大小，int或者tuple类型 \n",
    "\n",
    "<font color=Tomato>注意：</font>  numpy.resize(a, new_shape)和a.resize(new_shape)方法不同\n",
    "\n",
    "如果new_shape与a相同：二者操作一致，不同处为a.resize为in_place操作\n",
    "\n",
    "如果new_shape与a不同：二者操作不一致，numpy.resize会取a中的元素进行填充，而a.resize会用0进行填充\n"
   ]
  },
  {
   "cell_type": "code",
   "execution_count": 12,
   "metadata": {},
   "outputs": [
    {
     "data": {
      "text/plain": [
       "array([[ 0,  1,  2],\n",
       "       [ 3,  4,  5],\n",
       "       [ 6,  7,  8],\n",
       "       [ 9, 10, 11]])"
      ]
     },
     "execution_count": 12,
     "metadata": {},
     "output_type": "execute_result"
    }
   ],
   "source": [
    "d = np.arange(12).reshape(3,4)\n",
    "\n",
    "#9.1 根据数组d返回4行3列的新数组 \n",
    "np.resize(d,(4,3))"
   ]
  },
  {
   "cell_type": "markdown",
   "metadata": {},
   "source": [
    "*新数组名 = np.append(旧数组名,x)* ,  将x添加到数组末尾\n",
    "\n",
    "*新数组名 = np.append(旧数组名,x,axis=0)* , 将x添加到数组末尾 维持原有形状  "
   ]
  },
  {
   "cell_type": "code",
   "execution_count": 21,
   "metadata": {},
   "outputs": [
    {
     "name": "stdout",
     "output_type": "stream",
     "text": [
      "[[0 1 2]\n",
      " [3 4 5]]\n",
      "[0 1 2 3 4 5 9]\n"
     ]
    },
    {
     "ename": "ValueError",
     "evalue": "all the input arrays must have same number of dimensions, but the array at index 0 has 2 dimension(s) and the array at index 1 has 1 dimension(s)",
     "output_type": "error",
     "traceback": [
      "\u001b[1;31m---------------------------------------------------------------------------\u001b[0m",
      "\u001b[1;31mValueError\u001b[0m                                Traceback (most recent call last)",
      "\u001b[1;32m<ipython-input-21-57b9a5b1270b>\u001b[0m in \u001b[0;36m<module>\u001b[1;34m\u001b[0m\n\u001b[0;32m      5\u001b[0m \u001b[0mprint\u001b[0m\u001b[1;33m(\u001b[0m\u001b[0me1\u001b[0m\u001b[1;33m)\u001b[0m\u001b[1;33m\u001b[0m\u001b[1;33m\u001b[0m\u001b[0m\n\u001b[0;32m      6\u001b[0m \u001b[1;31m#9.3 添加数组[1,2]至数组e末尾,维持原有形状\u001b[0m\u001b[1;33m\u001b[0m\u001b[1;33m\u001b[0m\u001b[1;33m\u001b[0m\u001b[0m\n\u001b[1;32m----> 7\u001b[1;33m \u001b[0me2\u001b[0m \u001b[1;33m=\u001b[0m \u001b[0mnp\u001b[0m\u001b[1;33m.\u001b[0m\u001b[0mappend\u001b[0m\u001b[1;33m(\u001b[0m\u001b[0me\u001b[0m\u001b[1;33m,\u001b[0m\u001b[1;33m(\u001b[0m\u001b[1;33m[\u001b[0m\u001b[1;36m1\u001b[0m\u001b[1;33m,\u001b[0m\u001b[1;36m2\u001b[0m\u001b[1;33m,\u001b[0m\u001b[1;33m]\u001b[0m\u001b[1;33m)\u001b[0m\u001b[1;33m,\u001b[0m\u001b[0maxis\u001b[0m\u001b[1;33m=\u001b[0m\u001b[1;36m0\u001b[0m\u001b[1;33m)\u001b[0m\u001b[1;33m\u001b[0m\u001b[1;33m\u001b[0m\u001b[0m\n\u001b[0m\u001b[0;32m      8\u001b[0m \u001b[0mprint\u001b[0m\u001b[1;33m(\u001b[0m\u001b[0me2\u001b[0m\u001b[1;33m)\u001b[0m\u001b[1;33m\u001b[0m\u001b[1;33m\u001b[0m\u001b[0m\n",
      "\u001b[1;32m<__array_function__ internals>\u001b[0m in \u001b[0;36mappend\u001b[1;34m(*args, **kwargs)\u001b[0m\n",
      "\u001b[1;32m~\\anaconda3\\lib\\site-packages\\numpy\\lib\\function_base.py\u001b[0m in \u001b[0;36mappend\u001b[1;34m(arr, values, axis)\u001b[0m\n\u001b[0;32m   4669\u001b[0m         \u001b[0mvalues\u001b[0m \u001b[1;33m=\u001b[0m \u001b[0mravel\u001b[0m\u001b[1;33m(\u001b[0m\u001b[0mvalues\u001b[0m\u001b[1;33m)\u001b[0m\u001b[1;33m\u001b[0m\u001b[1;33m\u001b[0m\u001b[0m\n\u001b[0;32m   4670\u001b[0m         \u001b[0maxis\u001b[0m \u001b[1;33m=\u001b[0m \u001b[0marr\u001b[0m\u001b[1;33m.\u001b[0m\u001b[0mndim\u001b[0m\u001b[1;33m-\u001b[0m\u001b[1;36m1\u001b[0m\u001b[1;33m\u001b[0m\u001b[1;33m\u001b[0m\u001b[0m\n\u001b[1;32m-> 4671\u001b[1;33m     \u001b[1;32mreturn\u001b[0m \u001b[0mconcatenate\u001b[0m\u001b[1;33m(\u001b[0m\u001b[1;33m(\u001b[0m\u001b[0marr\u001b[0m\u001b[1;33m,\u001b[0m \u001b[0mvalues\u001b[0m\u001b[1;33m)\u001b[0m\u001b[1;33m,\u001b[0m \u001b[0maxis\u001b[0m\u001b[1;33m=\u001b[0m\u001b[0maxis\u001b[0m\u001b[1;33m)\u001b[0m\u001b[1;33m\u001b[0m\u001b[1;33m\u001b[0m\u001b[0m\n\u001b[0m\u001b[0;32m   4672\u001b[0m \u001b[1;33m\u001b[0m\u001b[0m\n\u001b[0;32m   4673\u001b[0m \u001b[1;33m\u001b[0m\u001b[0m\n",
      "\u001b[1;32m<__array_function__ internals>\u001b[0m in \u001b[0;36mconcatenate\u001b[1;34m(*args, **kwargs)\u001b[0m\n",
      "\u001b[1;31mValueError\u001b[0m: all the input arrays must have same number of dimensions, but the array at index 0 has 2 dimension(s) and the array at index 1 has 1 dimension(s)"
     ]
    }
   ],
   "source": [
    "e = np.arange(6).reshape(2,3)\n",
    "print(e)\n",
    "#9.2 将单个元素9添加到数组e末尾\n",
    "e1 = np.append(e,9)\n",
    "print(e1)\n",
    "#9.3 添加数组[1,2]至数组e末尾,维持原有形状\n",
    "e2 = np.append(e,[1,2,],axis=0)\n",
    "print(e2)"
   ]
  },
  {
   "cell_type": "markdown",
   "metadata": {},
   "source": [
    "*np.insert(arr, obj, values, axis)*    \n",
    "\n",
    "arr原始数组，可一可多，obj插入元素位置，values是插入内容，axis是按行按列插入（0：行、1：列）；  \n",
    "<font color=Tomato>注意：</font> 如果axis没有给出，相当于是做降维操作，与一维数组一致。\n",
    "\n",
    "*np.delete(arr,obj,axis=None)*    \n",
    "arr原始数组 ，obj表明哪一个子向量应该被移除，可以为整数或一个int型的向量， axis表明删除哪个轴的子向量，若默认，则返回一个被拉平的向量。"
   ]
  },
  {
   "cell_type": "code",
   "execution_count": 27,
   "metadata": {},
   "outputs": [
    {
     "name": "stdout",
     "output_type": "stream",
     "text": [
      "[[1 2 3]\n",
      " [7 8 9]\n",
      " [4 5 6]]\n",
      "[[1 2]\n",
      " [4 5]]\n"
     ]
    }
   ],
   "source": [
    "f = np.array([[1,2,3],[4,5,6]])\n",
    "#9.4 按行插入数组[7,8,9]至数组f，插入元素位置为1\n",
    "f1 = np.insert(f,1,[7,8,9],axis=0)\n",
    "print(f1)\n",
    "#9.5 删除数组f第三列元素\n",
    "f2=np.delete(f,2,axis=1)\n",
    "print(f2)"
   ]
  },
  {
   "cell_type": "markdown",
   "metadata": {},
   "source": [
    "<font color=Tomato>**第三部分**</font>-Numpy数组索引与切片\n",
    " \n",
    "请在下面<font color=Tomato>**每一行注释**</font>下添加对应的代码"
   ]
  },
  {
   "cell_type": "markdown",
   "metadata": {},
   "source": [
    "*数组名[x]* x为下标   \n",
    "\n",
    "*数组名[x:y]* x,y为分片区域下标 访问[x,y)上的元素\n",
    "\n",
    "*数组名[x][y]* 表示矩阵第x行第y列元素\n",
    "\n",
    "*数组名[x1:x2]* 表示矩阵第x1到x2行的元素 [x1,x2)\n",
    "\n",
    "*数组名[x1:x2, y1:y2]* 表示矩阵第x1到x2行以及y1到y2列的元素"
   ]
  },
  {
   "cell_type": "code",
   "execution_count": 6,
   "metadata": {},
   "outputs": [
    {
     "name": "stdout",
     "output_type": "stream",
     "text": [
      "1\n",
      "[1 3 5 7]\n",
      "15\n",
      "[[12 14 16 18]\n",
      " [11 12 13 15]]\n",
      "[[14 16 18]\n",
      " [12 13 15]]\n"
     ]
    }
   ],
   "source": [
    "#10.1 \n",
    "g = np.array([1,3,5,7,9,11])\n",
    "#访问数组第一个元素\n",
    "print(g[0])\n",
    "#访问数组第一个元素至第四个元素\n",
    "print(g[0:4])\n",
    "#10.2 \n",
    "h = np.array([[13,15,17,19],[12,14,16,18],[11,12,13,15]])\n",
    "#访问数组第一行第二列元素\n",
    "print(h[0][1])\n",
    "#访问数组第二行至第三行元素 \n",
    "print(h[1:3][:])\n",
    "#访问数组第二行至第三行 以及 第二列到第三列 的元素 \n",
    "print(h[1:3,1:4])"
   ]
  },
  {
   "cell_type": "markdown",
   "metadata": {},
   "source": [
    "<font color=Tomato>**第四部分**</font>-Numpy数组运算\n",
    " \n",
    "请在下面<font color=Tomato>**每一行注释**</font>下添加对应的代码"
   ]
  },
  {
   "cell_type": "markdown",
   "metadata": {},
   "source": [
    "*数组内每个元素扩大x倍,格式为 数组名*x  \n",
    "\n",
    "*平方 格式为 np.power(数组名,2)*  \n",
    "\n",
    "*开方 格式为 np.sqrt(数组名)*\n",
    "\n",
    "*求和 格式为 数组名.sum()*\n",
    "\n",
    "*求平均 格式为 数组名.mean()*\n",
    "\n",
    "*求最大数 格式为 数组名.max()*"
   ]
  },
  {
   "cell_type": "code",
   "execution_count": 49,
   "metadata": {},
   "outputs": [
    {
     "name": "stdout",
     "output_type": "stream",
     "text": [
      "[ 2  8 18 32]\n",
      "[  1  16  81 256]\n",
      "[1. 2. 3. 4.]\n",
      "30\n",
      "7.5\n",
      "16\n"
     ]
    }
   ],
   "source": [
    "#10.3 \n",
    "i = np.array([1,4,9,16])\n",
    "#数组内每个元素扩大2倍 \n",
    "print(i*2)\n",
    "#数组内每个元素平方\n",
    "i1=np.power(i,2)\n",
    "print(i1)\n",
    "#数组内每个元素开方\n",
    "i2=np.sqrt(i)\n",
    "print(i2)\n",
    "#数组求和\n",
    "i3=i.sum()\n",
    "print(i3)\n",
    "#数组求平均\n",
    "i4=i.mean()\n",
    "print(i4)\n",
    "#数组求最大值\n",
    "i5=i.max()\n",
    "print(i5)"
   ]
  },
  {
   "cell_type": "markdown",
   "metadata": {},
   "source": [
    "去重与排序\n",
    "\n",
    "去重: 新数组 = np.unique(老数组)\n",
    "\n",
    "排序: 新数组 = np.sort(老数组,x) x为0表示按行，1表示按列"
   ]
  },
  {
   "cell_type": "code",
   "execution_count": 53,
   "metadata": {},
   "outputs": [
    {
     "name": "stdout",
     "output_type": "stream",
     "text": [
      "[ 1  2 16]\n",
      "[ 1  1  2  2 16]\n"
     ]
    }
   ],
   "source": [
    "#10.4\n",
    "h = np.array([1,1,2,2,16])\n",
    "#数组去重\n",
    "h1=np.unique(h)\n",
    "print(h1)\n",
    "#数组排序\n",
    "h2=np.sort(h,0)\n",
    "print(h2)"
   ]
  },
  {
   "cell_type": "code",
   "execution_count": null,
   "metadata": {},
   "outputs": [],
   "source": []
  }
 ],
 "metadata": {
  "kernelspec": {
   "display_name": "Python 3",
   "language": "python",
   "name": "python3"
  },
  "language_info": {
   "codemirror_mode": {
    "name": "ipython",
    "version": 3
   },
   "file_extension": ".py",
   "mimetype": "text/x-python",
   "name": "python",
   "nbconvert_exporter": "python",
   "pygments_lexer": "ipython3",
   "version": "3.8.5"
  }
 },
 "nbformat": 4,
 "nbformat_minor": 5
}
