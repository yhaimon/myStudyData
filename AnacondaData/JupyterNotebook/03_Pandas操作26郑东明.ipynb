{
 "cells": [
  {
   "cell_type": "markdown",
   "metadata": {},
   "source": [
    "## 实验三 \n",
    " \n"
   ]
  },
  {
   "cell_type": "markdown",
   "metadata": {},
   "source": [
    "<font color=Tomato>**Pandas**</font>是一个开源的第三方 Python 库，从 Numpy 和 Matplotlib 的基础上构建而来，享有数据分析“三剑客之一”的盛名（NumPy、Matplotlib、Pandas）。Pandas 已经成为 Python 数据分析的必备高级工具，它的目标是成为强大、灵活、可以支持任何编程语言的数据分析工具。  "
   ]
  },
  {
   "cell_type": "markdown",
   "metadata": {},
   "source": [
    "<font color=Tomato>**第一部分**</font>-**Pandas数据结构**  \n",
    "\n",
    "请在下面<font color=Tomato>**每一行注释**</font>下添加对应的代码"
   ]
  },
  {
   "cell_type": "markdown",
   "metadata": {},
   "source": [
    "**Pandas**有三种数据结构：系列(Series)、数据帧(DataFrame)和面板(Panel)。 \n",
    "数据帧是Pandas使用最多的数据结构，其特点是异构数据、大小可变、数据可变。\n",
    "数据以行和列表示，每行是一条记录（对象），每列表示一个属性，属性数据具有数据类型。\n",
    "Pandas数据帧可以使用各种输入创建，如列表、字典、系列、NumPy的ndarrays、Series或另一个数据帧等。"
   ]
  },
  {
   "cell_type": "code",
   "execution_count": 2,
   "metadata": {},
   "outputs": [],
   "source": [
    "#导入pandas库，并取一个别名pd\n",
    "import pandas as pd\n",
    "import numpy as np"
   ]
  },
  {
   "cell_type": "markdown",
   "metadata": {},
   "source": [
    "<font color=Tomato>1.Pandas数据创建</font>"
   ]
  },
  {
   "cell_type": "code",
   "execution_count": 3,
   "metadata": {},
   "outputs": [
    {
     "name": "stdout",
     "output_type": "stream",
     "text": [
      "Empty DataFrame\n",
      "Columns: []\n",
      "Index: []\n",
      "<class 'pandas.core.frame.DataFrame'>\n"
     ]
    }
   ],
   "source": [
    "#1.0 pandas空数组创建 \n",
    "'''\n",
    "格式为 数据帧名 = pd.DataFrame() \n",
    "'''\n",
    "#创建一个空的pandas数组\n",
    "df = pd.DataFrame()\n",
    "print(df)\n",
    "#打印输出，type函数查看类型\n",
    "print(type(df))"
   ]
  },
  {
   "cell_type": "markdown",
   "metadata": {},
   "source": [
    "结合numpy库，创建pandas非空数组。*np.arange(start,end,step)* 根据start与stop指定的范围以及step设定的步长，生成一个ndarray对象。"
   ]
  },
  {
   "cell_type": "code",
   "execution_count": 4,
   "metadata": {},
   "outputs": [
    {
     "name": "stdout",
     "output_type": "stream",
     "text": [
      "   Numbers\n",
      "0        1\n",
      "1        3\n",
      "2        5\n",
      "3        7\n",
      "4        9\n"
     ]
    }
   ],
   "source": [
    "#1.1 结合Numpy库生成Pandas非空数组\n",
    "arr = np.arange(1, 10, 2) \n",
    "df = pd.DataFrame(arr, columns=['Numbers'])\n",
    "\n",
    "print(df)"
   ]
  },
  {
   "cell_type": "markdown",
   "metadata": {},
   "source": [
    "结合字典结构，创建Pandas DataFrame。基本格式为：  \n",
    "字典名 = {第一列名字:[第一列元素形成的列表],第二列名字:[第二列元素形成的列表],.....}  \n",
    "pandas数据帧名 = pd.DataFrame(字典名)    <font color=lightblue>PS：也可直接在pd.DataFrame()里编写字典结构。</font>"
   ]
  },
  {
   "cell_type": "code",
   "execution_count": 5,
   "metadata": {},
   "outputs": [
    {
     "name": "stdout",
     "output_type": "stream",
     "text": [
      "      Name  Age         City\n",
      "0    Alice   25     New York\n",
      "1      Bob   30  Los Angeles\n",
      "2  Charlie   35      Chicago\n"
     ]
    }
   ],
   "source": [
    "#1.2 通过字典结构创建一个Pandas数据帧\n",
    "data = {\n",
    "    'Name': ['Alice', 'Bob', 'Charlie'],\n",
    "    'Age': [25, 30, 35],\n",
    "    'City': ['New York', 'Los Angeles', 'Chicago']\n",
    "}\n",
    "df = pd.DataFrame(data)\n",
    "\n",
    "print(df)\n"
   ]
  },
  {
   "cell_type": "markdown",
   "metadata": {},
   "source": [
    "Pandas数据结构基本属性"
   ]
  },
  {
   "cell_type": "code",
   "execution_count": 6,
   "metadata": {},
   "outputs": [
    {
     "name": "stdout",
     "output_type": "stream",
     "text": [
      "2\n",
      "(3, 3)\n",
      "9\n",
      "Name    object\n",
      "Age      int64\n",
      "City    object\n",
      "dtype: object\n",
      "             0            1        2\n",
      "Name     Alice          Bob  Charlie\n",
      "Age         25           30       35\n",
      "City  New York  Los Angeles  Chicago\n",
      "[['Alice' 25 'New York']\n",
      " ['Bob' 30 'Los Angeles']\n",
      " ['Charlie' 35 'Chicago']]\n",
      "    Name  Age         City\n",
      "0  Alice   25     New York\n",
      "1    Bob   30  Los Angeles\n",
      "      Name  Age         City\n",
      "1      Bob   30  Los Angeles\n",
      "2  Charlie   35      Chicago\n"
     ]
    }
   ],
   "source": [
    "#1.3\n",
    "# pandas数据结构名.ndim 输出数据轴序列\n",
    "print(df.ndim)\n",
    "# pandas数据结构名.shape 维度 输出形状（维度）\n",
    "print(df.shape)\n",
    "# pandas数据结构名.size 输出元素总个数\n",
    "print(df.size)\n",
    "# pandas数据结构名.dtype 输出数据类型\n",
    "print(df.dtypes)\n",
    "# pandas数据结构名.T 输出数组的行列转置\n",
    "print(df.T)\n",
    "# pandas数据结构名.size 输出数组元素数量\n",
    "\n",
    "# pandas数据结构名.values 输出实际数据的numpy表示\n",
    "print(df.values)\n",
    "# pandas数据结构名.head(x) 输出前x行数据\n",
    "print(df.head(2))\n",
    "# pandas数据结构名.tail(x) 输出后x行数据\n",
    "print(df.tail(2))\n"
   ]
  },
  {
   "cell_type": "markdown",
   "metadata": {},
   "source": [
    "<font color=Tomato>**第二部分**</font>-**Pandas数据分析**  \n",
    "\n",
    "请在下面<font color=Tomato>**每一行注释**</font>下添加对应的代码"
   ]
  },
  {
   "cell_type": "markdown",
   "metadata": {},
   "source": [
    "<font color=Tomato>2.Pandas操作外部数据</font>"
   ]
  },
  {
   "cell_type": "markdown",
   "metadata": {},
   "source": [
    "Pandas支持读取外部各类文件如Excel、CSV、Json等等。  \n",
    "基本格式为 Pd.read_csv(文件路径,header =) ， 可以在pd.read_csv()中继续添加参数：  \n",
    "sep = ',' 分隔符;   \n",
    "index_col='Name' 将Name列作为索引;  \n",
    "skiprows=[x] 不取下标为x的行;   \n",
    "nrows=2,usecols=['Name','No'] 取两行、取两列."
   ]
  },
  {
   "cell_type": "code",
   "execution_count": 14,
   "metadata": {},
   "outputs": [
    {
     "name": "stdout",
     "output_type": "stream",
     "text": [
      "   Unnamed: 0 一本分数线 Unnamed: 2 二本分数线 Unnamed: 4\n",
      "0         NaN    文科         理科    文科         理科\n",
      "1      2015.0   495        477   446        433\n",
      "2      2011.0   515        502   472        455\n",
      "3      2009.0   516        528   476        476\n",
      "4      2014.0   524        484   481        435\n"
     ]
    }
   ],
   "source": [
    "#2.1 简单读取外部CSV文件\n",
    "df = pd.read_excel('O:\\python资料\\实验3 高考分数scores.xlsx')\n",
    "\n",
    "# 打印DataFrame的前5行数据\n",
    "print(df.head())"
   ]
  },
  {
   "cell_type": "code",
   "execution_count": 30,
   "metadata": {},
   "outputs": [
    {
     "name": "stdout",
     "output_type": "stream",
     "text": [
      "      一本分数线  二本分数线\n",
      "2015    495    446\n",
      "2011    515    472\n",
      "2009    516    476\n",
      "2014    524    481\n",
      "2013    524    474\n",
      "2010    528    489\n",
      "2012    532    489\n",
      "2016    549    494\n",
      "2020    555    468\n",
      "2017    565    507\n",
      "2021    576    488\n",
      "2018    579    527\n"
     ]
    }
   ],
   "source": [
    "#2.2 条件读取外部CSV文件\n",
    "\n",
    "\n",
    "df_use_skip = pd.read_excel('O:\\python资料\\实验3 高考分数scores.xlsx', index_col=0,\n",
    "                            usecols=[0, 1, 3], skiprows=[1], skipfooter=1)\n",
    "print(df_use_skip)"
   ]
  },
  {
   "cell_type": "markdown",
   "metadata": {},
   "source": [
    "各列元素数量为：df.count()\n",
    "各列元素平均值为：df.mean()  \n",
    "各列元素总和为：df.sum()  \n",
    "各列元素中位数为：df.median()  "
   ]
  },
  {
   "cell_type": "code",
   "execution_count": 9,
   "metadata": {},
   "outputs": [
    {
     "name": "stdout",
     "output_type": "stream",
     "text": [
      "各列元素最小值:\n",
      "a    1\n",
      "b    5\n",
      "c    9\n",
      "dtype: int64\n",
      "\n",
      "各列元素最大值:\n",
      "a     4\n",
      "b     8\n",
      "c    12\n",
      "dtype: int64\n",
      "\n",
      "各列元素绝对值:\n",
      "   a  b   c\n",
      "0  1  5   9\n",
      "1  2  6  10\n",
      "2  3  7  11\n",
      "3  4  8  12\n",
      "\n",
      "数组元素累积乘积:\n",
      "479001600\n",
      "\n",
      "全描述性统计信息:\n",
      "              a         b          c\n",
      "count  4.000000  4.000000   4.000000\n",
      "mean   2.500000  6.500000  10.500000\n",
      "std    1.290994  1.290994   1.290994\n",
      "min    1.000000  5.000000   9.000000\n",
      "25%    1.750000  5.750000   9.750000\n",
      "50%    2.500000  6.500000  10.500000\n",
      "75%    3.250000  7.250000  11.250000\n",
      "max    4.000000  8.000000  12.000000\n"
     ]
    },
    {
     "data": {
      "text/plain": [
       "'\\n求单列元素 则在()中加入axis=1 表示求第一列元素的平均值/总和/中位数....\\n'"
      ]
     },
     "execution_count": 9,
     "metadata": {},
     "output_type": "execute_result"
    }
   ],
   "source": [
    "#2.3 数据描述性统计\n",
    "d = {'a':[1,2,3,4],  \n",
    "     'b':[5,6,7,8],\n",
    "     'c':[9,10,11,12]}\n",
    "#将d转化为pandas数组 格式为：pandas数据帧名 = pd.DataFrame(字典名)\n",
    "df = pd.DataFrame(d)\n",
    "# 各列元素最小值\n",
    "min_values = df.min()\n",
    "print(\"各列元素最小值:\")\n",
    "print(min_values)\n",
    "\n",
    "# 各列元素最大值\n",
    "max_values = df.max()\n",
    "print(\"\\n各列元素最大值:\")\n",
    "print(max_values)\n",
    "\n",
    "# 各列元素绝对值\n",
    "abs_values = df.abs()\n",
    "print(\"\\n各列元素绝对值:\")\n",
    "print(abs_values)\n",
    "\n",
    "# 数组元素累积乘积\n",
    "cumulative_product = df.product().prod()\n",
    "print(\"\\n数组元素累积乘积:\")\n",
    "print(cumulative_product)\n",
    "\n",
    "# 全描述性统计信息\n",
    "description = df.describe()\n",
    "print(\"\\n全描述性统计信息:\")\n",
    "print(description)\n",
    "'''\n",
    "求单列元素 则在()中加入axis=1 表示求第一列元素的平均值/总和/中位数....\n",
    "'''"
   ]
  },
  {
   "cell_type": "markdown",
   "metadata": {},
   "source": [
    "<font color=Tomato>**第三部分**</font>-**实验操作**  \n",
    "\n",
    "请在根据给出数据<font color=Tomato>**编写代码**</font>进行分析，给出<font color=Tomato>**下面问题**</font>的答案。"
   ]
  },
  {
   "cell_type": "markdown",
   "metadata": {},
   "source": [
    "Q1: 一本文理科与二本文理科最高分数线是多少？最低分数线是多少？相差多大？\n",
    "\n",
    "\n",
    "Q2:  2021和2020比，高考线分别变化了多少分，高考越来越难吗？\n",
    "\n",
    "\n",
    "Q3: 预测今年每科分数线（可使用近12年的每科平均值）\n"
   ]
  },
  {
   "cell_type": "code",
   "execution_count": 18,
   "metadata": {},
   "outputs": [
    {
     "name": "stdout",
     "output_type": "stream",
     "text": [
      "Q1: 一本文科与二本文科最高分数线是多少？最低分数线是多少？相差多大？\n",
      "    一本文科最高分数线为 583, 最低分数线为 495\n",
      "    二本文科最高分数线为 532, 最低分数线为 446\n",
      "    相差多大: 137\n",
      "\n",
      "Q2: 2021和2020相比，高考线分别变化了多少分？高考是否越来越难？\n",
      "年份          1\n",
      "一本文科最高分    21\n",
      "一本理科最高分    -5\n",
      "二本文科最高分    20\n",
      "二本理科最高分    -7\n",
      "Name: 11, dtype: object\n",
      "    高考是否越来越难: 是\n",
      "\n",
      "Q3: 预测今年每科分数线（使用近12年的每科平均值）\n",
      "一本文科最高分    545.500000\n",
      "一本理科最高分    524.833333\n",
      "dtype: float64\n"
     ]
    }
   ],
   "source": [
    "#代码部分\n",
    "\n",
    "# 读取数据\n",
    "data = pd.read_excel('O:\\python资料\\实验3 高考分数scores.xlsx')\n",
    "\n",
    "# 清洗数据\n",
    "data.dropna(inplace=True)\n",
    "data.columns = ['年份', '一本文科最高分', '一本理科最高分', '二本文科最高分', '二本理科最高分']\n",
    "\n",
    "# 计算最高和最低分数线\n",
    "one_high = max(data['一本文科最高分'])\n",
    "one_low = min(data['一本文科最高分'])\n",
    "two_high = max(data['二本文科最高分'])\n",
    "two_low = min(data['二本文科最高分'])\n",
    "diff = one_high - two_low\n",
    "\n",
    "print(\"Q1: 一本文科与二本文科最高分数线是多少？最低分数线是多少？相差多大？\")\n",
    "print(\"    一本文科最高分数线为 {}, 最低分数线为 {}\".format(one_high, one_low))\n",
    "print(\"    二本文科最高分数线为 {}, 最低分数线为 {}\".format(two_high, two_low))\n",
    "print(\"    相差多大: {}\".format(diff))\n",
    "\n",
    "# 计算2021和2020比，高考线分别变化了多少分，高考越来越难吗？\n",
    "diff_2020_to_2021 = data[data['年份'].isin([2020, 2021])].diff().iloc[1]\n",
    "is_getting_harder = \"是\" if diff_2020_to_2021.mean() > 0 else \"否\"\n",
    "\n",
    "print(\"\\nQ2: 2021和2020相比，高考线分别变化了多少分？高考是否越来越难？\")\n",
    "print(diff_2020_to_2021)\n",
    "print(\"    高考是否越来越难: {}\".format(is_getting_harder))\n",
    "\n",
    "# 预测今年每科分数线（可使用近12年的每科平均值）\n",
    "avg_scores_over_years = data.iloc[-12:].mean()\n",
    "predicted_scores = avg_scores_over_years[['一本文科最高分', '一本理科最高分']]\n",
    "print(\"\\nQ3: 预测今年每科分数线（使用近12年的每科平均值）\")\n",
    "print(predicted_scores)\n"
   ]
  },
  {
   "cell_type": "code",
   "execution_count": null,
   "metadata": {},
   "outputs": [],
   "source": []
  }
 ],
 "metadata": {
  "kernelspec": {
   "display_name": "Python 3",
   "language": "python",
   "name": "python3"
  },
  "language_info": {
   "codemirror_mode": {
    "name": "ipython",
    "version": 3
   },
   "file_extension": ".py",
   "mimetype": "text/x-python",
   "name": "python",
   "nbconvert_exporter": "python",
   "pygments_lexer": "ipython3",
   "version": "3.8.5"
  }
 },
 "nbformat": 4,
 "nbformat_minor": 5
}
